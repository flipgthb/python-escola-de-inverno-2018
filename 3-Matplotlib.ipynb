{
 "cells": [
  {
   "cell_type": "markdown",
   "metadata": {
    "run_control": {
     "frozen": false,
     "read_only": false
    }
   },
   "source": [
    "# Matplotlib - O módulo para desenhar gráficos em Python"
   ]
  },
  {
   "cell_type": "markdown",
   "metadata": {},
   "source": [
    "O matplotlib é um módulo para desenhar gráficos técnicos escrito em python, ciente do scipy e muito maduro.\n",
    "Seguindo uma sintaxe parecida com a do matlab, o matplotlib e o numpy são os maiores responsáveis pela espaço que python conquistou nos meios acadêmicos.\n",
    "Porém, tendo à disposição o poder da linguagem python, matplotlib usa os conceitos de orientação à objecto para possibilitar a elaboração de gráficos mais complexos.\n",
    "\n",
    "Vamos começar com um exemplo:"
   ]
  },
  {
   "cell_type": "code",
   "execution_count": null,
   "metadata": {
    "ExecuteTime": {
     "end_time": "2017-07-21T17:47:03.946014Z",
     "start_time": "2017-07-21T17:47:03.516172Z"
    }
   },
   "outputs": [],
   "source": [
    "import numpy as np\n",
    "from matplotlib import pyplot as plt\n",
    "plt.style.use('seaborn-notebook')\n",
    "\n",
    "# dados para serem plotados\n",
    "x = np.linspace(-2*np.pi,2*np.pi,100)\n",
    "y = np.sin(x)\n",
    "z = np.cos(x)\n",
    "\n",
    "# plotando x e sin(x)\n",
    "plt.plot(x, y, label='seno')\n",
    "# plotando x e cos(x)\n",
    "plt.plot(x, z, label='cosseno')\n",
    "# pedindo para plotar a legenda no \"melhor\" lugar\n",
    "plt.legend(loc='best')\n",
    "# pedindo que o gráfico seja desnhado, caso não esteja usando o notebook\n",
    "plt.show()"
   ]
  },
  {
   "cell_type": "markdown",
   "metadata": {},
   "source": [
    "A célula acima mostra o começo típico de um gráfico usando o matplotlib:\n",
    "1. Organizamos os dados que serão plotados\n",
    "2. Adicionamos cada curva\n",
    "3. Pedimos elementos adicionais, como legendas, título, modificações nos eixos...\n",
    "4. Pedimos que o gráfico seja mostrado ou salvamos ele no disco\n",
    "Essa receita é o estilo matlab de fazer gráficos, e muita coisa pode ser feita com matplotlib sabendo isso e poucas outras funções para modificar os elementos do gráficos ou criar tipos de representação diferentes, como gráficos de barras ou gráficos em 2 e 3 dimensões.\n",
    "\n",
    "Uma das melhores formas de se aprender a usar o matplotlib é através de exemplos, o próprio site do módulo disponibiliza [diversos exemplos com código e imagem](http://matplotlib.org/gallery.html).\n",
    "Existe até uma [competição de gráficos em matplotlib](https://scipy2016.scipy.org/ehome/146062/332971/)."
   ]
  },
  {
   "cell_type": "markdown",
   "metadata": {},
   "source": [
    "Para entender melhor como usar o matplotlib, vamos focar no método pythonico, isto é, seguindo os princípios de orientação à objeto.\n",
    "Isso significa que uma figura é um objeto, os eixos de coordenadas dentro da figura são objetos, as curvas desenhadas são um objeto e por aí vai.\n",
    "Comecemos criando uma figura:"
   ]
  },
  {
   "cell_type": "code",
   "execution_count": null,
   "metadata": {
    "ExecuteTime": {
     "end_time": "2017-07-21T18:12:17.425513Z",
     "start_time": "2017-07-21T18:12:17.416478Z"
    },
    "collapsed": true
   },
   "outputs": [],
   "source": [
    "# evita que eu tenha que digitar plt.show() e faz com que as figuras sejam\n",
    "# mostradas no proprio notebook (caso contrário, é possível que uma janela \n",
    "# extra seja aberta para mostrar a figura)\n",
    "# %matplotlib inline"
   ]
  },
  {
   "cell_type": "code",
   "execution_count": null,
   "metadata": {
    "ExecuteTime": {
     "end_time": "2017-07-21T18:19:54.511033Z",
     "start_time": "2017-07-21T18:19:54.499829Z"
    }
   },
   "outputs": [],
   "source": [
    "fig = plt.figure()\n",
    "plt.show()"
   ]
  },
  {
   "cell_type": "markdown",
   "metadata": {},
   "source": [
    "Note que a figura não tem nada dentro e, portanto, não tem o que mostrar. \n",
    "Vamos adicionar um sistema conjunto de eixos bidimensionais à figura, que é feito \n",
    "adicionando um subplot dentro da figura:"
   ]
  },
  {
   "cell_type": "code",
   "execution_count": null,
   "metadata": {
    "ExecuteTime": {
     "end_time": "2017-07-21T18:19:55.143922Z",
     "start_time": "2017-07-21T18:19:54.852065Z"
    }
   },
   "outputs": [],
   "source": [
    "ax = fig.add_subplot(111)\n",
    "fig"
   ]
  },
  {
   "cell_type": "markdown",
   "metadata": {},
   "source": [
    "Note que, ao adicionarmo um subplot à figura, ganhamos uma referência ao subplot, à qual chamamos `ax`.\n",
    "Com isso temos controle direto aos dois elementos principais da figura: a própria figura e o plot dentro dela.\n",
    "\n",
    "Suponha que tenhamos um conjunto de dados bem simples para plotar.\n",
    "Como o plot deve ser feito nos eixos, devemos usar a referência do subplot (que são os eixos) para isso:"
   ]
  },
  {
   "cell_type": "code",
   "execution_count": null,
   "metadata": {
    "ExecuteTime": {
     "end_time": "2017-07-21T18:19:55.618915Z",
     "start_time": "2017-07-21T18:19:55.488472Z"
    }
   },
   "outputs": [],
   "source": [
    "x = np.arange(-5,5)\n",
    "(curve1,) = ax.plot(x, x)\n",
    "fig"
   ]
  },
  {
   "cell_type": "markdown",
   "metadata": {},
   "source": [
    "Novamente, ao pedir um novo elemento no gráfico, ganhamos uma referência ao elemento, neste caso a curva dos dados.\n",
    "Note que os limites dos eixos foram ajustados automaticamente para conter toda a curva.\n",
    "\n",
    "Digamos, agora, que não queremos o gráfico em forma de linha mas como pontos.\n",
    "Podemos fazer isso da seguinte forma"
   ]
  },
  {
   "cell_type": "code",
   "execution_count": null,
   "metadata": {
    "ExecuteTime": {
     "end_time": "2017-07-21T18:21:31.752391Z",
     "start_time": "2017-07-21T18:21:31.617588Z"
    }
   },
   "outputs": [],
   "source": [
    "curve1.set_linestyle('')\n",
    "curve1.set_marker('.')\n",
    "fig"
   ]
  },
  {
   "cell_type": "markdown",
   "metadata": {},
   "source": [
    "Perceba que agora, como não inserimos nenhum novo elemento no gráfico mas apenas mudamos propriedades de um elemento já existente, nenhuma nova referência é criada.\n",
    "\n",
    "Esses são os princípios de como trabalhar com a ideia de orientação a obejto no matplotlib.\n",
    "Vejamos como melhorar nosso primeiro gráfico."
   ]
  },
  {
   "cell_type": "code",
   "execution_count": null,
   "metadata": {
    "ExecuteTime": {
     "end_time": "2017-07-21T18:46:45.842318Z",
     "start_time": "2017-07-21T18:46:45.442623Z"
    }
   },
   "outputs": [],
   "source": [
    "# esse comando simplifica a criação de plots, agregando alguns comandos vistos acima\n",
    "fig, ax = plt.subplots() \n",
    "\n",
    "x = np.linspace(-2*np.pi, 2*np.pi,100)\n",
    "y, z = np.sin(x), np.cos(x)\n",
    "(c1,) = ax.plot(x, y, label='seno')\n",
    "(c2,) = ax.plot(x, z, label='cosseno')\n",
    "leg = ax.legend(loc='best')"
   ]
  },
  {
   "cell_type": "markdown",
   "metadata": {},
   "source": [
    "Suponha que queiramos controlar o número de marcações nos eixos.\n",
    "Para isso podemos usar os métodos adequado da referência aos eixos:"
   ]
  },
  {
   "cell_type": "code",
   "execution_count": null,
   "metadata": {
    "ExecuteTime": {
     "end_time": "2017-07-21T18:46:47.972173Z",
     "start_time": "2017-07-21T18:46:47.793188Z"
    }
   },
   "outputs": [],
   "source": [
    "ax.set_yticks([-1,-0.5,0,0.5,1])\n",
    "ax.set_xticks([-2*np.pi,-3*np.pi/2,-np.pi,-np.pi/2,0,np.pi/2,np.pi,3*np.pi/2,2*np.pi])\n",
    "fig"
   ]
  },
  {
   "cell_type": "markdown",
   "metadata": {},
   "source": [
    "Uma característica muito útil do matplotlib é a capacidade de mostrar corretamente expressões matemáticas escritas em LaTex.\n",
    "Vamos mudar a face dos marcadores do eixo x para múltiplos de π em LaTex:"
   ]
  },
  {
   "cell_type": "code",
   "execution_count": null,
   "metadata": {
    "ExecuteTime": {
     "end_time": "2017-07-21T18:46:49.869371Z",
     "start_time": "2017-07-21T18:46:49.136528Z"
    }
   },
   "outputs": [],
   "source": [
    "ax.set_xticklabels([r'$-2\\pi$',r'$-\\frac{3\\pi}{2}$',r'$-\\pi$',r'$-\\frac{\\pi}{2}$',0,r'$\\frac{\\pi}{2}$',r'$\\pi$',r'$\\frac{3\\pi}{2}$',r'$2\\pi$'])\n",
    "fig"
   ]
  },
  {
   "cell_type": "markdown",
   "metadata": {},
   "source": [
    "Suponha agora, que não gostemos das bordas superior e direita do gráfico.\n",
    "Podemos removê-las acessando os \"spines\" do eixo"
   ]
  },
  {
   "cell_type": "code",
   "execution_count": null,
   "metadata": {
    "ExecuteTime": {
     "end_time": "2017-07-21T18:46:52.015445Z",
     "start_time": "2017-07-21T18:46:51.246472Z"
    }
   },
   "outputs": [],
   "source": [
    "for s in ('right', 'top'):\n",
    "    ax.spines[s].set_visible(False)\n",
    "fig"
   ]
  },
  {
   "cell_type": "markdown",
   "metadata": {},
   "source": [
    "Se quisermos mover legenda, podemos fazer:"
   ]
  },
  {
   "cell_type": "code",
   "execution_count": null,
   "metadata": {
    "ExecuteTime": {
     "end_time": "2017-07-21T18:47:59.822386Z",
     "start_time": "2017-07-21T18:47:58.861793Z"
    }
   },
   "outputs": [],
   "source": [
    "ax.legend(loc='upper right')\n",
    "fig"
   ]
  },
  {
   "cell_type": "markdown",
   "metadata": {},
   "source": [
    "E fim. Vamos salvar a figura"
   ]
  },
  {
   "cell_type": "code",
   "execution_count": null,
   "metadata": {
    "ExecuteTime": {
     "end_time": "2017-07-21T18:48:55.190031Z",
     "start_time": "2017-07-21T18:48:54.812821Z"
    },
    "collapsed": true
   },
   "outputs": [],
   "source": [
    "fig.savefig('seno-cosseno.svg')"
   ]
  },
  {
   "cell_type": "markdown",
   "metadata": {},
   "source": [
    "# Outros tipos de gráficos"
   ]
  },
  {
   "cell_type": "markdown",
   "metadata": {},
   "source": [
    "Embora o exemplo acima seja um gráfico de uma função simples, a maior parte dos conceitos se aplica para outros tipos de gráfico disponíveis no matplotlib.\n",
    "Vejamos outras vizualizações comuns que podemos querer."
   ]
  },
  {
   "cell_type": "markdown",
   "metadata": {},
   "source": [
    "## Histogramas"
   ]
  },
  {
   "cell_type": "markdown",
   "metadata": {},
   "source": [
    "Histogramas são úteis para ajustar modelos probabilisticos à amostras de algum experimento.\n",
    "O matplotlib tem função para desenhar histogramas à partir de lista ou array do numpy, chamada `hist`:"
   ]
  },
  {
   "cell_type": "code",
   "execution_count": null,
   "metadata": {},
   "outputs": [],
   "source": [
    "# Gerando uma amostra de 10000 elementos gerados por uma Gaussiana cetrada em zero\n",
    "# e com variância unitária\n",
    "y = np.random.randn(10000)\n",
    "\n",
    "# Vamos calcular o valor da densidade de probabilidade Gaussiana para este intervalo de x\n",
    "x = np.linspace(-4,4,100)\n",
    "# usando as funções do numpy para calcular em toda a array de uma só vez\n",
    "gx = np.exp(-x*x/2)/np.sqrt(2*np.pi)\n",
    "\n",
    "# para desenhar o histograma, basta criar uma figura e usar a função plt.hist\n",
    "fig, ax = plt.subplots()\n",
    "# plot do histograma com as palavras chave:\n",
    "# bins = 50  -> escolhe quantos bins serão usados no histograma. poderíamos usar uma array com\n",
    "#               as bordas de cada bin\n",
    "# density = True -> normaliza a contagem do histograma de modo que a \"integral\" seja 1\n",
    "_ = ax.hist(y, bins=50, density=True, label=\"Amostra\")\n",
    "\n",
    "# plot da densidade de probabilidade\n",
    "ax.plot(x,gx, label=\"Gaussiana\")\n",
    "\n",
    "# mostrando as informações do gráfico\n",
    "ax.legend(loc='best')\n",
    "ax.set_xlabel(r'$x$')\n",
    "for s in [s for (pos,s) in ax.spines.items() if pos in {'right','top'}]:\n",
    "    s.set_visible(False)\n",
    "_ = ax.set_title(\"Plot da densidade contra o histograma da amostra\")"
   ]
  },
  {
   "cell_type": "markdown",
   "metadata": {},
   "source": [
    "## Heatmap"
   ]
  },
  {
   "cell_type": "markdown",
   "metadata": {},
   "source": [
    "Heatmaps são gráficos em escala de cor, úteis para mostrar densidades ou funções escalares em duas variáveis.\n",
    "O matplotlib tem algumas funções para fazer isso, sendo a mais genérica (e às vezes mais lenta) `plt.pcolor` para variáveis arranjadas de forma arbitrária, uma para váriaves arranjadas em uma rede quadrada regular `plt.pcolormesh`, e uma para imagens `plt.imshow`"
   ]
  },
  {
   "cell_type": "code",
   "execution_count": null,
   "metadata": {},
   "outputs": [],
   "source": [
    "# Gerando valores das variáveis independentes x e y\n",
    "x, y = np.linspace(-5,5,100), np.linspace(-1,1,20)\n",
    "\n",
    "# Calculando uma função para cada ponto do produto cartesiano de x e y\n",
    "# via broadcasting das funções do numpy. A sintaxe y[:,None] transforma\n",
    "# uma array \"linha\" numa array \"coluna\".\n",
    "z = np.sin(x*y[:,None]) - np.cos(y[:,None]) + np.sin(x)\n",
    "\n",
    "# agora a figura\n",
    "fig, ax = plt.subplots()\n",
    "# note que o pcolormesh aceita arrays unidimensionais para os eixos e\n",
    "# bidimensionais para a cor. \n",
    "# o valor `c` recebido é um objeto que pode ser usado para criar uma escala\n",
    "# de cores\n",
    "c = ax.pcolormesh(x,y,z)\n",
    "# para colocar a escala de cores, é preciso pedir para a figura, usando o objeto \n",
    "# que resulta do pcolormesh\n",
    "_ = fig.colorbar(c)"
   ]
  },
  {
   "cell_type": "markdown",
   "metadata": {},
   "source": [
    "## Scatter plots"
   ]
  },
  {
   "cell_type": "markdown",
   "metadata": {},
   "source": [
    "Algumas vezes queremos mostrar a posição no espaço de alguns pontos, sem que tenha uma função clara entre as variáveis $x$ e $y$. Isso pode ser útil para visualizar o deslocamento de partículas no plano quando combinado com a possibilidade de animação de gráficos que o matplotilib também disponibiliza.\n",
    "\n",
    "O matplotlib tem a função `plt.scatter` para isso"
   ]
  },
  {
   "cell_type": "code",
   "execution_count": null,
   "metadata": {},
   "outputs": [],
   "source": [
    "# um conjunto aleatório de posições\n",
    "x,y = np.random.randn(2,20)\n",
    "\n",
    "fig, ax = plt.subplots()\n",
    "\n",
    "# a palavra chave `c = 'k'` pede para a cor dos pontos ser preta (blac'k')\n",
    "ax.scatter(x,y,c='k')\n",
    "ax.set_xlabel(r'$x(t=t_0)$')\n",
    "ax.set_ylabel(r'$y(t=t_0)$')\n",
    "ax.set_title(\"Posições iniciais das partículas\")\n",
    "ax.spines['right'].set_visible(False)\n",
    "ax.spines['top'].set_visible(False)"
   ]
  },
  {
   "cell_type": "markdown",
   "metadata": {},
   "source": [
    "## Mais de um gráfico por figura"
   ]
  },
  {
   "cell_type": "markdown",
   "metadata": {},
   "source": [
    "É possível fazer desenha mais de um gráfico por figura usando a função `plt.subplots`, basta especificar o número de linhas e colunas que que você quer que a figura tenha:"
   ]
  },
  {
   "cell_type": "code",
   "execution_count": null,
   "metadata": {},
   "outputs": [],
   "source": [
    "fig, axs = plt.subplots(ncols=2,nrows=3)"
   ]
  },
  {
   "cell_type": "markdown",
   "metadata": {},
   "source": [
    "Desta forma, a variável `axs` pode ser vista como uma array do numpy, mas com elementos do tipo axes do matplotlib:"
   ]
  },
  {
   "cell_type": "code",
   "execution_count": null,
   "metadata": {},
   "outputs": [],
   "source": [
    "axs[0,0].scatter(*np.random.randn(2,100))\n",
    "fig"
   ]
  },
  {
   "cell_type": "code",
   "execution_count": null,
   "metadata": {},
   "outputs": [],
   "source": [
    "axs[2,1].plot(np.linspace(-5,5,100),np.exp(np.linspace(-5,5,100)))\n",
    "fig"
   ]
  },
  {
   "cell_type": "markdown",
   "metadata": {},
   "source": [
    "Há outras maneiras de criar visualizações com mais de um gráfico em disposições não regulares através do [axes_grid1 toolkit](https://matplotlib.org/tutorials/toolkits/axes_grid.html)"
   ]
  },
  {
   "cell_type": "markdown",
   "metadata": {},
   "source": [
    "## Visualizações 3D"
   ]
  },
  {
   "cell_type": "markdown",
   "metadata": {},
   "source": [
    "É possível criar visualizações tridimensionais usando o matplotlib.\n",
    "Para isto é preciso importar uma classe especial no módulo `mpl_toolkits.mplot3d` chamada `Axes3D`. \n",
    "Com isso, é possível especificar que o gráfico sendo desenhado é tridimensional usando a palavra chave `projection` ao criar um novo objeto do tipo axes"
   ]
  },
  {
   "cell_type": "code",
   "execution_count": null,
   "metadata": {
    "ExecuteTime": {
     "end_time": "2017-07-21T18:55:34.314405Z",
     "start_time": "2017-07-21T18:55:33.954018Z"
    }
   },
   "outputs": [],
   "source": [
    "import matplotlib.pyplot as plt\n",
    "from mpl_toolkits.mplot3d import Axes3D\n",
    "\n",
    "x,y,z = np.random.randn(3,100)\n",
    "u,v,w = np.random.randn(3,100) + 1\n",
    "\n",
    "# as duas linhas abaixo poderiam ser substituidas por:\n",
    "# fig, ax = plt.subplots(subplot_kw={'projection':'3d'})\n",
    "fig = plt.figure()\n",
    "ax = fig.add_subplot(111, projection='3d')  # cria um axes específico para imagens 3D\n",
    "ax.scatter(x,y,z, c='r')\n",
    "ax.scatter(u,v,w, c='b')"
   ]
  },
  {
   "cell_type": "markdown",
   "metadata": {},
   "source": [
    "## Animações"
   ]
  },
  {
   "cell_type": "markdown",
   "metadata": {},
   "source": [
    "O matplotlib também fornece uma interface para criar animações, através dos módulos `FuncAnimate` e `ArtistAnimate` que precisam ser importados do submódulo do matplotlib `matplotlib.animation`.\n",
    "\n",
    "O módulo `FuncAnimate` é usado para criar imagens à partir de alguma função do usuário, chamada reptidamente a cada frame, enquando o `ArtistAnimate` cria uma animação à partir de uma sequência de imagens geradas previamente.\n",
    "\n",
    "A ideia para o `FuncAnimate` é simple, mas demanda um certo trabalho: \n",
    "  - Criamos uma figura. Cada axes na figura deve ser definido com a palavra chave `animated=True` para que a animação o modifique\n",
    "  - criamos uma função que gera o estado inicial do gráfico e devolve um iterável de objetos desenhaveis (um `Artist` no jargão do matplotlib)\n",
    "  - criamos uma função que muda o estado do gráfica que devolve um iterável de objetos desenháveis\n",
    "  \n",
    "Vejamos um exemplo"
   ]
  },
  {
   "cell_type": "code",
   "execution_count": null,
   "metadata": {},
   "outputs": [],
   "source": [
    "# a linha abaixo desabilita a exibição de figuras no notebook, abrindo janelas\n",
    "# dedicadas para cada figura quando chamamos a função `plt.show()`\n",
    "%matplotlib\n",
    "from matplotlib.animation import FuncAnimation, ArtistAnimation\n",
    "\n",
    "fig, ax = plt.subplots()\n",
    "# xdata e ydata terão os valores para que serão usado para gerar o gráfico a cada frame\n",
    "xdata, ydata = [], []\n",
    "curva, = ax.plot([], [], 'ro', animated=True)  # a variável curva é um objeto desenhável\n",
    "\n",
    "def init():\n",
    "    # desenha um gráfico vazio, só eixos x e y num certo limite e devolve \n",
    "    # um objeto desenhável, no caso a curva definida acima\n",
    "    ax.set_xlim(0, 2*np.pi)\n",
    "    ax.set_ylim(-1, 1)\n",
    "    return curva,\n",
    "\n",
    "def update(frame):\n",
    "    # frame é um valor numérico, então podemos calcular o seno de frame e traçar uma curva\n",
    "    # y = sen(x). pense em frame como tempo em uma unidade diferente.\n",
    "    xdata.append(frame)  # xdada terá cada instante em unidades de frame\n",
    "    ydata.append(np.sin(frame))  # ydata terá o seno de cada instante\n",
    "    curva.set_data(xdata, ydata) # atualisamos a curva para ter os novos valores\n",
    "    return curva,  \n",
    "\n",
    "# cria um objeto de animação\n",
    "ani = FuncAnimation(fig, update, frames=np.linspace(0, 2*np.pi, 128),\n",
    "                    init_func=init, blit=True)\n",
    "\n",
    "# necessário para abrir uma nova janela com a animação\n",
    "plt.show()"
   ]
  },
  {
   "cell_type": "markdown",
   "metadata": {},
   "source": [
    "Para o `ArtistAnimate` basta criar uma lista de objetos desenháveis e criar a animação"
   ]
  },
  {
   "cell_type": "code",
   "execution_count": null,
   "metadata": {},
   "outputs": [],
   "source": [
    "fig = plt.figure()\n",
    "\n",
    "\n",
    "def f(x, y):\n",
    "    return np.sin(x) + np.cos(y)\n",
    "\n",
    "x = np.linspace(0, 2 * np.pi, 120)\n",
    "y = np.linspace(0, 2 * np.pi, 100).reshape(-1, 1)\n",
    "# ims é uma lista de listas, cada linha é um iterável de objetos desenháveis\n",
    "# para desenhar no frame atual; neste caso á apenas um objeto desenhável, \n",
    "# a imagem, em cada frame\n",
    "ims = []\n",
    "for i in range(60):\n",
    "    x += np.pi / 15.\n",
    "    y += np.pi / 20.\n",
    "    im = plt.imshow(f(x, y), animated=True)\n",
    "    ims.append([im])\n",
    "\n",
    "ani = ArtistAnimation(fig, ims, interval=50, blit=True,\n",
    "                                repeat_delay=1000)\n",
    "\n",
    "# Para a salvar a animação, use\n",
    "#\n",
    "# ani.save(\"nome-da-animacao.mp4\")\n",
    "#\n",
    "# ou\n",
    "#\n",
    "# from matplotlib.animation import FFMpegWriter\n",
    "# writer = FFMpegWriter(fps=15, metadata=dict(artist='Me'), bitrate=1800)\n",
    "# ani.save(\"nome-da-animacao.mp4\", writer=writer)\n",
    "\n",
    "plt.show()"
   ]
  }
 ],
 "metadata": {
  "kernelspec": {
   "display_name": "Python 3",
   "language": "python",
   "name": "python3"
  },
  "language_info": {
   "codemirror_mode": {
    "name": "ipython",
    "version": 3
   },
   "file_extension": ".py",
   "mimetype": "text/x-python",
   "name": "python",
   "nbconvert_exporter": "python",
   "pygments_lexer": "ipython3",
   "version": "3.6.5"
  },
  "toc": {
   "colors": {
    "hover_highlight": "#DAA520",
    "running_highlight": "#FF0000",
    "selected_highlight": "#FFD700"
   },
   "moveMenuLeft": true,
   "nav_menu": {
    "height": "60px",
    "width": "252px"
   },
   "navigate_menu": true,
   "number_sections": true,
   "sideBar": true,
   "threshold": 4,
   "toc_cell": false,
   "toc_section_display": "block",
   "toc_window_display": false
  }
 },
 "nbformat": 4,
 "nbformat_minor": 2
}
