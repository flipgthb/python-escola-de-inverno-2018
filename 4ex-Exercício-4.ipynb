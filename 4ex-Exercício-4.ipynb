{
 "cells": [
  {
   "cell_type": "markdown",
   "metadata": {},
   "source": [
    "# Exercício 4 - Modelo de Ising"
   ]
  },
  {
   "cell_type": "markdown",
   "metadata": {},
   "source": [
    "O modelo de Ising é o modelo mais simples e mais estudado em Mecânica Estatística, Teoria de Campos e outras áreas, servido de ponto de partida para o estudo de problemas de transição de fase ou outras características de comportamento macroscópico.\n",
    "\n",
    "Neste exercício, vamos estudar algumas das características do Modelo de Ising em 2 dimensões, usando Python, Numpy e Matplotlib para nos ajudar. Mas antes, vejamos o que é o Modelo de Ising e como podemos usar um programa para estudá-lo."
   ]
  },
  {
   "cell_type": "markdown",
   "metadata": {},
   "source": [
    "## O Modelo de Ising"
   ]
  },
  {
   "cell_type": "markdown",
   "metadata": {},
   "source": [
    "Não cabe aqui a descrição da relevância do modelo de Ising, então fica a seu cargo estudar a respeito. Referências não faltam, mas uma em português e bem escrita é o livro de Mecânica Estatística do prof. Salinas.\n",
    "\n",
    "Para nós, o que precisamos saber é que o modelo de Ising é composto por uma rede quadrada, com $L \\times L$ nós. Cada nó é representado pela sua posição na rede $(i,j)$ e tem uma varíavel binária $\\sigma_{ij} \\in [-1,1]$ chamada *spin*. A *vizinhaça* do $n(i,j)$ nó $(i,j)$ são os quatro nós que formam uma cruz centrada em $(i,j)$ mais ele próprio, ou seja $n(i,j) = \\{(i,j),(i-1,j),(i+1,j),(i,j-1),(i,j+1)\\}$. É comum usarmos *condições periódicas de contorno* para que o nós das bordas tenham o mesmo número de vizinhos dos nós no miolo da rede (o que ajuda a controlar os efeitos de tamanho finito, importantes no estudo de transições de fase).\n",
    "Podemos visualizar uma realização do modelo da como um tabuleiro de xadrex com $L\\times L$ casas em que algumas delas foram pintadas cor contrária aleatóriamente:"
   ]
  },
  {
   "cell_type": "code",
   "execution_count": 4,
   "metadata": {},
   "outputs": [
    {
     "data": {
      "text/plain": [
       "<matplotlib.collections.QuadMesh at 0x7fc999389cc0>"
      ]
     },
     "execution_count": 4,
     "metadata": {},
     "output_type": "execute_result"
    },
    {
     "data": {
      "image/png": "[encoded data removed]",
      "text/plain": [
       "<Figure size 432x288 with 1 Axes>"
      ]
     },
     "metadata": {},
     "output_type": "display_data"
    }
   ],
   "source": [
    "import numpy as np\n",
    "import matplotlib.pyplot as plt\n",
    "from matplotlib.animation import FuncAnimation\n",
    "\n",
    "rand = np.random.rand\n",
    "choice = np.random.choice\n",
    "\n",
    "%matplotlib inline\n",
    "\n",
    "def plot_ising_spins(lattice, ax=None, *,cmap='binary',**kwargs):\n",
    "    if ax is None:\n",
    "        ax = plt.gca()\n",
    "    img = ax.pcolormesh(lattice,**{'cmap':cmap,**kwargs})\n",
    "    ax.set_xticks([])\n",
    "    ax.set_yticks([])\n",
    "    for (_,s) in ax.spines.items():\n",
    "        s.set_visible(False)\n",
    "    return img\n",
    "\n",
    "\n",
    "plot_ising_spins(choice([-1,1],(8,8)))"
   ]
  },
  {
   "cell_type": "markdown",
   "metadata": {},
   "source": [
    "A coisa fica interessante quando definimos um Hamiltoniano para gerar uma dinâmica para os spins.\n",
    "Suponhamos que seja energéticamente mais custoso para um certo nó ter o spin contrário a um dos vizinho do que ter o mesmo spin. Isto é pode ser incorporado na dinâmica fazendo o Hamiltoniano ter um termo do tipo $-\\sigma_{ij}\\sigma_{i+1j}$, por exemplo.\n",
    "Se fizermos isso para todos os spins teremos\n",
    "$$\n",
    "H(\\{\\sigma\\}) = -\\sum_{\\{ a,b\\}}\\sigma_a\\sigma_b\n",
    "$$\n",
    "onde $\\{\\sigma\\}$ é o conjunto de todos os spins, chamado *estado* do sistema, $a$ e $b$ são nós distintos vizinhos e $\\{a,b\\}$ é o conjunto de todos os nós distintos vizinhos.\n",
    "\n",
    "Como o Hamitoniano força que spins tenham o mesmo valor, seria justo esperar que depois de um certo tempo, a estado do sistema seja com todos os spins $1$ ou todos $-1$, o que é verdade quando o sistema está em temperatura baixa (abaixo da temperatura crítica). Porém, quando há temperatura alta o bastante (acima da crítica) o sistema não consegue atingir o equilíbrio, e o spins ficam trocando de estado quase aletoriamente, mantendo o aspecto de tabuleiro de xadrez bagunçado.\n",
    "Há, portanto, um intermédio entre valores altos e baixo de temperatura no qual os estados não estão nem em um nem no outro desses extremos. Existem uma temperactura crítica $T_c$ para a qual valores próximos mudam as propriedades físicas do sistema.\n",
    "\n",
    "Nosso objetivo é estudar algumas dessas propriedades, como a temperatura crítica, e para isso precisamos simular esses sistema. Isso demanda que possamos lidar com a aleatoriadade introduzida na dinâmica pela temperatura e portanto temos que escolher um modelo probabilistico."
   ]
  },
  {
   "cell_type": "markdown",
   "metadata": {},
   "source": [
    "## A distribuição de Boltzmann"
   ]
  },
  {
   "cell_type": "markdown",
   "metadata": {},
   "source": [
    "A Teoria de Probabilidades é um tópico antigo e com diferentes abordágens. Embora eu tenha citado o livro do prof. Salinas, a abordagem probabilistica que uso é um pouco mais moderna e pode ser vista em trabalhos do prof. Nestor Caticha e prof. Ariel Caticha entre outros.\n",
    "Para este exercício, basta dizer que *escolher* um modelo probabilístico implica em especificar quais são as funções relevantes para o problema em mãos, identificar uma distribuição à priori para o problema e usar o método de Máxima Entropia, restrito pela informação dada pelas funções relevantes, para determinar qual a distribuição de probabilidades adequada para estudar o problema.\n",
    "Note que a distribuição adequada será condicionada na informação que eu tenho a priori e, portanto, será tão mais adequada conforme tal informação seja de mais qualidade.\n",
    "\n",
    "Dito isso, para o problema do modelo de Ising estamos interessados na distribuição de estados dos sistema, isto é precisamos de uma distribução de probabilidades $P(\\{\\sigma\\})$. A única função relevante dos estados até agora é o Hamiltoniano $H$ e, para usar o método MaxEnt, precisamos associar um parâmetro de Lagrange $\\beta = \\frac{1}{T}$, convenientemente escrito como o inverso da temperatura. Se partirmos de uma priori uniforme nos estados, então a distribuição de estados será a distribuição de Boltzmann:\n",
    "$$\n",
    "P(\\{\\sigma\\}) = \\frac{1}{Z}\\exp(-\\beta H(\\{\\sigma\\}))\n",
    "$$\n",
    "\n",
    "Então, para estudar a dinâmica, podemos usar o algoritmo de Metrópolis:\n",
    "  1. escolha um nó $(i,j)$ aleatorimente\n",
    "  2. calcule a diferença de energia $\\Delta E$ caso o $\\sigma_{ij}$ fosse invertido: $\\sigma_{ij} \\rightarrow -\\sigma_{ij}$ \n",
    "  3. se $\\Delta E \\le 0$ inverta o spin, caso $\\Delta E > 0$, inverta o spin com probabilidade $\\exp(-\\beta\\Delta E)$\n",
    "\n",
    "O algoritmo de Metrópolis é um tipo de algoritmo de Monte Carlo e permite realizar simulações do sistema para poder tirar amostras de uma distribuição para a qual não podemos escrever a distribuição de forma fechada."
   ]
  },
  {
   "cell_type": "markdown",
   "metadata": {},
   "source": [
    "## O que você deve fazer?"
   ]
  },
  {
   "cell_type": "markdown",
   "metadata": {},
   "source": [
    "O seu trabalho é estudar a magnetização $m = \\frac{1}{L^2}\\sum_a \\sigma_a$ e a capacidade térmica $C = \\frac{\\beta^2}{L^2}\\langle H^2\\rangle - \\langle H\\rangle^2$, determinando a temperatura de transição e os expoentes críticos:\n",
    "$$\n",
    "m = m_0\\left(1 - \\frac{T}{T_c}\\right)^{\\beta}\n",
    "$$\n",
    "    and\n",
    "$$\n",
    "C = C_{fundo} + C_0\\left(1 - \\frac{T}{T_c}\\right)^{-\\alpha}\n",
    "$$\n",
    "Use as Python, Numpy e Matplotlib e, se possível, faça 3 animações, uma para uma temperatura abaixo da crítica, outra para uma temperatura próxima da crítica e uma acima.\n",
    "Faça gráficos do da magnetização e da distância de correlação, faça repetições da simulação para poder ajustar o valor da temperatura crítica."
   ]
  }
 ],
 "metadata": {
  "kernelspec": {
   "display_name": "Python 3",
   "language": "python",
   "name": "python3"
  },
  "language_info": {
   "codemirror_mode": {
    "name": "ipython",
    "version": 3
   },
   "file_extension": ".py",
   "mimetype": "text/x-python",
   "name": "python",
   "nbconvert_exporter": "python",
   "pygments_lexer": "ipython3",
   "version": "3.6.5"
  }
 },
 "nbformat": 4,
 "nbformat_minor": 2
}
