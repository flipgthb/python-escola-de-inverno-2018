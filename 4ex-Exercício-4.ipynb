{
 "cells": [
  {
   "cell_type": "markdown",
   "metadata": {},
   "source": [
    "# Exercício 4 - Modelo de Ising"
   ]
  },
  {
   "cell_type": "markdown",
   "metadata": {},
   "source": [
    "O modelo de Ising é o modelo mais simples e mais estudado em Mecânica Estatística, Teoria de Campos e outras áreas, servido de ponto de partida para o estudo de problemas de transição de fase ou outras características de comportamento macroscópico.\n",
    "\n",
    "Neste exercício, vamos estudar algumas das características do Modelo de Ising em 2 dimensões, usando Python, Numpy e Matplotlib para nos ajudar. Mas antes, vejamos o que é o Modelo de Ising e como podemos usar um programa para estudá-lo."
   ]
  },
  {
   "cell_type": "markdown",
   "metadata": {},
   "source": [
    "## O Modelo de Ising"
   ]
  },
  {
   "cell_type": "markdown",
   "metadata": {},
   "source": [
    "Não cabe aqui a descrição da relevância do modelo de Ising, então fica a seu cargo estudar a respeito. Referências não faltam, mas uma em português e bem escrita é o livro de Mecânica Estatística do prof. Salinas.\n",
    "\n",
    "Para nós, o que precisamos saber é que o modelo de Ising é composto por uma rede quadrada, com $L \\times L$ nós. Cada nó é representado pela sua posição na rede $(i,j)$ e tem uma varíavel binária $\\sigma_{ij} \\in [-1,1]$ chamada *spin*. A *vizinhaça* do $n(i,j)$ nó $(i,j)$ são os quatro nós que formam uma cruz centrada em $(i,j)$ mais ele próprio, ou seja $n(i,j) = \\{(i,j),(i-1,j),(i+1,j),(i,j-1),(i,j+1)\\}$. É comum usarmos *condições periódicas de contorno* para que o nós das bordas tenham o mesmo número de vizinhos dos nós no miolo da rede (o que ajuda a controlar os efeitos de tamanho finito, importantes no estudo de transições de fase).\n",
    "Podemos visualizar uma realização do modelo da como um tabuleiro de xadrex com $L\\times L$ casas em que algumas delas foram pintadas cor contrária aleatóriamente:"
   ]
  },
  {
   "cell_type": "code",
   "execution_count": 1,
   "metadata": {},
   "outputs": [
    {
     "data": {
      "text/plain": [
       "<matplotlib.collections.QuadMesh at 0x7f9c37fe0b70>"
      ]
     },
     "execution_count": 1,
     "metadata": {},
     "output_type": "execute_result"
    },
    {
     "data": {
      "image/png": "[encoded data removed]",
      "text/plain": [
       "<Figure size 432x288 with 1 Axes>"
      ]
     },
     "metadata": {},
     "output_type": "display_data"
    }
   ],
   "source": [
    "import numpy as np\n",
    "import matplotlib.pyplot as plt\n",
    "from matplotlib.animation import FuncAnimation\n",
    "\n",
    "rand = np.random.rand\n",
    "choice = np.random.choice\n",
    "\n",
    "%matplotlib inline\n",
    "\n",
    "def plot_ising_spins(lattice, ax=None, *,cmap='binary',**kwargs):\n",
    "    if ax is None:\n",
    "        ax = plt.gca()\n",
    "    img = ax.pcolormesh(lattice,**{'cmap':cmap,**kwargs})\n",
    "    ax.set_xticks([])\n",
    "    ax.set_yticks([])\n",
    "    for (_,s) in ax.spines.items():\n",
    "        s.set_visible(False)\n",
    "    return img\n",
    "\n",
    "\n",
    "plot_ising_spins(choice([-1,1],(8,8)))"
   ]
  },
  {
   "cell_type": "markdown",
   "metadata": {},
   "source": [
    "A coisa fica interessante quando definimos um Hamiltoniano para gerar uma dinâmica para os spins.\n",
    "Suponhamos que seja energéticamente mais custoso para um certo nó ter o spin contrário a um dos vizinho do que ter o mesmo spin. Isto é pode ser incorporado na dinâmica fazendo o Hamiltoniano ter um termo do tipo $-\\sigma_{ij}\\sigma_{i+1j}$, por exemplo.\n",
    "Se fizermos isso para todos os spins teremos\n",
    "$$\n",
    "H(\\{\\sigma\\}) = -\\sum_{\\{ a,b\\}}\\sigma_a\\sigma_b\n",
    "$$\n",
    "onde $\\{\\sigma\\}$ é o conjunto de todos os spins, chamado *estado* do sistema, $a$ e $b$ são nós distintos vizinhos e $\\{a,b\\}$ é o conjunto de todos os nós distintos vizinhos.\n",
    "\n",
    "Como o Hamitoniano força que spins tenham o mesmo valor, seria justo esperar que depois de um certo tempo, a estado do sistema seja com todos os spins $1$ ou todos $-1$, o que é verdade quando o sistema está em temperatura baixa (abaixo da temperatura crítica). Porém, quando há temperatura alta o bastante (acima da crítica) o sistema não consegue atingir o equilíbrio, e o spins ficam trocando de estado quase aletoriamente, mantendo o aspecto de tabuleiro de xadrez bagunçado.\n",
    "Há, portanto, um intermédio entre valores altos e baixo de temperatura no qual os estados não estão nem em um nem no outro desses extremos. Existem uma temperactura crítica $T_c$ para a qual valores próximos mudam as propriedades físicas do sistema.\n",
    "\n",
    "Nosso objetivo é estudar algumas dessas propriedades, como a temperatura crítica, e para isso precisamos simular esses sistema. Isso demanda que possamos lidar com a aleatoriadade introduzida na dinâmica pela temperatura e portanto temos que escolher um modelo probabilistico."
   ]
  },
  {
   "cell_type": "markdown",
   "metadata": {},
   "source": [
    "## A distribuição de Boltzmann"
   ]
  },
  {
   "cell_type": "markdown",
   "metadata": {},
   "source": [
    "A Teoria de Probabilidades é um tópico antigo e com diferentes abordágens. Embora eu tenha citado o livro do prof. Salinas, a abordagem probabilistica que uso é um pouco mais moderna e pode ser vista em trabalhos do prof. Nestor Caticha e prof. Ariel Caticha entre outros.\n",
    "Para este exercício, basta dizer que *escolher* um modelo probabilístico implica em especificar quais são as funções relevantes para o problema em mãos, identificar uma distribuição à priori para o problema e usar o método de Máxima Entropia, restrito pela informação dada pelas funções relevantes, para determinar qual a distribuição de probabilidades adequada para estudar o problema.\n",
    "Note que a distribuição adequada será condicionada na informação que eu tenho a priori e, portanto, será tão mais adequada conforme tal informação seja de mais qualidade.\n",
    "\n",
    "Dito isso, para o problema do modelo de Ising estamos interessados na distribuição de estados dos sistema, isto é precisamos de uma distribução de probabilidades $P(\\{\\sigma\\})$. A única função relevante dos estados até agora é o Hamiltoniano $H$ e, para usar o método MaxEnt, precisamos associar um parâmetro de Lagrange $\\beta = \\frac{1}{T}$, convenientemente escrito como o inverso da temperatura. Se partirmos de uma priori uniforme nos estados, então a distribuição de estados será a distribuição de Boltzmann:\n",
    "$$\n",
    "P(\\{\\sigma\\}) = \\frac{1}{Z}\\exp(-\\beta H(\\{\\sigma\\}))\n",
    "$$\n",
    "\n",
    "Então, para estudar a dinâmica, podemos usar o algoritmo de Metrópolis:\n",
    "  1. escolha um nó $(i,j)$ aleatorimente\n",
    "  2. calcule a diferença de energia $\\Delta E$ caso o $\\sigma_{ij}$ fosse invertido: $\\sigma_{ij} \\rightarrow -\\sigma_{ij}$ \n",
    "  3. se $\\Delta E \\le 0$ inverta o spin, caso $\\Delta E > 0$, inverta o spin com probabilidade $\\exp(-\\beta\\Delta E)$\n",
    "\n",
    "O algoritmo de Metrópolis é um tipo de algoritmo de Monte Carlo e permite realizar simulações do sistema para poder tirar amostras de uma distribuição para a qual não podemos escrever a distribuição de forma fechada."
   ]
  },
  {
   "cell_type": "markdown",
   "metadata": {},
   "source": [
    "## O que você deve fazer?"
   ]
  },
  {
   "cell_type": "markdown",
   "metadata": {},
   "source": [
    "O seu trabalho é estudar a magnetização $m = \\frac{1}{L^2}\\sum_a \\sigma_a$ e a capacidade térmica $C = \\frac{\\beta^2}{L^2}\\langle H^2\\rangle - \\langle H\\rangle^2$, determinando a temperatura de transição e os expoentes críticos:\n",
    "$$\n",
    "m = m_0\\left(1 - \\frac{T}{T_c}\\right)^{\\beta}\n",
    "$$\n",
    "    and\n",
    "$$\n",
    "C = C_{fundo} + C_0\\left(1 - \\frac{T}{T_c}\\right)^{-\\alpha}\n",
    "$$\n",
    "Use as Python, Numpy e Matplotlib e, se possível, faça 3 animações, uma para uma temperatura abaixo da crítica, outra para uma temperatura próxima da crítica e uma acima.\n",
    "Faça gráficos do da magnetização e da distância de correlação, faça repetições da simulação para poder ajustar o valor da temperatura crítica."
   ]
  },
  {
   "cell_type": "code",
   "execution_count": 2,
   "metadata": {},
   "outputs": [],
   "source": [
    "import numpy as np"
   ]
  },
  {
   "cell_type": "markdown",
   "metadata": {},
   "source": [
    "Representação dos estados do sistema"
   ]
  },
  {
   "cell_type": "code",
   "execution_count": 3,
   "metadata": {},
   "outputs": [
    {
     "data": {
      "text/plain": [
       "array([[ 1,  1, -1,  1, -1, -1, -1, -1],\n",
       "       [-1, -1,  1, -1, -1,  1,  1,  1],\n",
       "       [-1, -1,  1,  1, -1, -1,  1,  1],\n",
       "       [ 1,  1,  1,  1, -1,  1,  1,  1],\n",
       "       [-1,  1,  1, -1,  1, -1,  1,  1],\n",
       "       [ 1, -1,  1, -1,  1,  1,  1,  1],\n",
       "       [-1, -1,  1,  1,  1,  1, -1, -1],\n",
       "       [ 1,  1,  1,  1,  1, -1, -1,  1]])"
      ]
     },
     "execution_count": 3,
     "metadata": {},
     "output_type": "execute_result"
    }
   ],
   "source": [
    "L = 8\n",
    "S = np.random.choice([-1,1],(L,L))\n",
    "S"
   ]
  },
  {
   "cell_type": "markdown",
   "metadata": {},
   "source": [
    "como, dado $(i,j)$, você encontra os vizinhos dele?"
   ]
  },
  {
   "cell_type": "code",
   "execution_count": 4,
   "metadata": {},
   "outputs": [
    {
     "data": {
      "text/plain": [
       "(array([-1,  1,  1,  1]), [(6, 0), (0, 0), (7, -1), (7, 1)])"
      ]
     },
     "execution_count": 4,
     "metadata": {},
     "output_type": "execute_result"
    }
   ],
   "source": [
    "(i,j) = 7,0\n",
    "I,J = [i-1,(i+1)%L,i,i],[j,j,j-1,(j+1)%L]\n",
    "S[I,J], list(zip(I,J))"
   ]
  },
  {
   "cell_type": "markdown",
   "metadata": {},
   "source": [
    "escreva função que calcula diferença de energia quando se troca o spin $(i,j)$"
   ]
  },
  {
   "cell_type": "markdown",
   "metadata": {},
   "source": [
    "$$ E_{ij;0} = -\\sigma_{ij}(\\sum_{a\\in n(i,j)}\\sigma_a) $$\n",
    "$$ E_{ij;0} = -(-\\sigma_{ij})(\\sum_{a\\in n(i,j)}\\sigma_a)  =  E_{ij;0} = \\sigma_{ij}(\\sum_{a\\in n(i,j)}\\sigma_a) $$\n",
    "\n",
    "$$ \\Delta E = 2\\sigma_{ij}*(...)$$"
   ]
  },
  {
   "cell_type": "code",
   "execution_count": 5,
   "metadata": {},
   "outputs": [],
   "source": [
    "def delta_E(lattice,i,j):\n",
    "    I,J = [i-1,(i+1)%L,i,i],[j,j,j-1,(j+1)%L]\n",
    "    dE = 2*lattice[i,j]*(lattice[I,J].sum())\n",
    "    return dE"
   ]
  },
  {
   "cell_type": "code",
   "execution_count": 6,
   "metadata": {},
   "outputs": [
    {
     "data": {
      "text/plain": [
       "4"
      ]
     },
     "execution_count": 6,
     "metadata": {},
     "output_type": "execute_result"
    }
   ],
   "source": [
    "delta_E(S,i,j) # 4"
   ]
  },
  {
   "cell_type": "code",
   "execution_count": 7,
   "metadata": {},
   "outputs": [
    {
     "data": {
      "text/plain": [
       "(<function RandomState.rand>, <ufunc 'exp'>)"
      ]
     },
     "execution_count": 7,
     "metadata": {},
     "output_type": "execute_result"
    }
   ],
   "source": [
    "np.random.rand, np.exp"
   ]
  },
  {
   "cell_type": "markdown",
   "metadata": {},
   "source": [
    "invertendo o spin"
   ]
  },
  {
   "cell_type": "code",
   "execution_count": 8,
   "metadata": {},
   "outputs": [],
   "source": [
    "def talvez_inverte_spin(lattice,beta):\n",
    "    i,j = np.random.choice(lattice.shape[0],2)\n",
    "    dE = delta_E(lattice,i,j)\n",
    "    if dE <= 0 or np.random.rand() < np.exp(-beta*dE):\n",
    "        lattice[i,j] *= -1"
   ]
  },
  {
   "cell_type": "markdown",
   "metadata": {},
   "source": [
    "escolhendo um nó aleatório"
   ]
  },
  {
   "cell_type": "code",
   "execution_count": 9,
   "metadata": {},
   "outputs": [
    {
     "data": {
      "text/plain": [
       "array([7, 5])"
      ]
     },
     "execution_count": 9,
     "metadata": {},
     "output_type": "execute_result"
    }
   ],
   "source": [
    "np.random.choice(L,2)"
   ]
  },
  {
   "cell_type": "code",
   "execution_count": 10,
   "metadata": {},
   "outputs": [],
   "source": [
    "%matplotlib inline\n",
    "import matplotlib.pyplot as plt"
   ]
  },
  {
   "cell_type": "code",
   "execution_count": 11,
   "metadata": {},
   "outputs": [],
   "source": [
    "S = np.random.choice([-1,1],(L,L))"
   ]
  },
  {
   "cell_type": "code",
   "execution_count": 12,
   "metadata": {},
   "outputs": [
    {
     "data": {
      "text/plain": [
       "<matplotlib.image.AxesImage at 0x7f9c35f72cc0>"
      ]
     },
     "execution_count": 12,
     "metadata": {},
     "output_type": "execute_result"
    },
    {
     "data": {
      "image/png": "[encoded data removed]",
      "text/plain": [
       "<Figure size 432x288 with 1 Axes>"
      ]
     },
     "metadata": {},
     "output_type": "display_data"
    }
   ],
   "source": [
    "plt.imshow(S)"
   ]
  },
  {
   "cell_type": "code",
   "execution_count": 13,
   "metadata": {},
   "outputs": [
    {
     "ename": "SyntaxError",
     "evalue": "unexpected EOF while parsing (<ipython-input-13-4072b5f0293b>, line 11)",
     "output_type": "error",
     "traceback": [
      "\u001b[0;36m  File \u001b[0;32m\"<ipython-input-13-4072b5f0293b>\"\u001b[0;36m, line \u001b[0;32m11\u001b[0m\n\u001b[0;31m    # C.append(...)\u001b[0m\n\u001b[0m                   ^\u001b[0m\n\u001b[0;31mSyntaxError\u001b[0m\u001b[0;31m:\u001b[0m unexpected EOF while parsing\n"
     ]
    }
   ],
   "source": [
    "queimo = 20\n",
    "periodo_medida = 8\n",
    "m = []\n",
    "C = []\n",
    "for t in range(1000):\n",
    "    talvez_inverte_spin(S,10.0)\n",
    "    if t > queimo:\n",
    "        if (t-qeuimo)%periodo == 0:\n",
    "            # faço a medida\n",
    "            # m.append(...)\n",
    "            # C.append(...)"
   ]
  },
  {
   "cell_type": "code",
   "execution_count": null,
   "metadata": {},
   "outputs": [],
   "source": [
    "plt.imshow(S)"
   ]
  },
  {
   "cell_type": "code",
   "execution_count": null,
   "metadata": {},
   "outputs": [],
   "source": [
    "m = S.mean()\n",
    "m"
   ]
  },
  {
   "cell_type": "code",
   "execution_count": null,
   "metadata": {},
   "outputs": [],
   "source": [
    "E = np.array([-delta_E(S,i,j)/10 for i in range(L) for j in range(L)]).reshape((L,L))"
   ]
  },
  {
   "cell_type": "code",
   "execution_count": null,
   "metadata": {},
   "outputs": [],
   "source": [
    "E.var()*beta**2"
   ]
  },
  {
   "cell_type": "code",
   "execution_count": null,
   "metadata": {},
   "outputs": [],
   "source": [
    "def simula(beta,L,*,T,periodo_medida,queima):\n",
    "    S0 = np.random.choice([-1,1],(L,L))\n",
    "    S = S0.copy()\n",
    "    m, C = [], []\n",
    "    for t in range(T):\n",
    "        talvez_inverte_spin(S,beta)\n",
    "        if t > queima and (t-queima)%periodo_medida == 0:\n",
    "            m.append(S.mean())\n",
    "            E = beta*beta*np.array([-delta_E(S,i,j)/10 for i in range(L) \n",
    "                                    for j in range(L)]).var()\n",
    "            C.append(E)\n",
    "    return S0,S,m,C"
   ]
  },
  {
   "cell_type": "code",
   "execution_count": null,
   "metadata": {},
   "outputs": [],
   "source": [
    "S0,S,m,C = simula(10.0, 8, T=1000, queima=20, periodo_medida=8)"
   ]
  },
  {
   "cell_type": "code",
   "execution_count": null,
   "metadata": {},
   "outputs": [],
   "source": [
    "plt.imshow(S0)"
   ]
  },
  {
   "cell_type": "code",
   "execution_count": null,
   "metadata": {},
   "outputs": [],
   "source": [
    "plt.imshow(S)"
   ]
  },
  {
   "cell_type": "code",
   "execution_count": null,
   "metadata": {},
   "outputs": [],
   "source": [
    "plt.hist(m)"
   ]
  },
  {
   "cell_type": "code",
   "execution_count": null,
   "metadata": {},
   "outputs": [],
   "source": [
    "m_medio = np.mean(m)\n",
    "m_medio"
   ]
  },
  {
   "cell_type": "code",
   "execution_count": null,
   "metadata": {},
   "outputs": [],
   "source": [
    "plt.hist(C)"
   ]
  },
  {
   "cell_type": "code",
   "execution_count": null,
   "metadata": {},
   "outputs": [],
   "source": [
    "C_medio = np.mean(C)\n",
    "C_medio"
   ]
  },
  {
   "cell_type": "code",
   "execution_count": null,
   "metadata": {},
   "outputs": [],
   "source": [
    "L = 16\n",
    "betas = np.linspace(0.1,5.1,50)\n",
    "m_beta, C_beta = [], []\n",
    "for beta in betas:\n",
    "    _,_,m,C = simula(beta,L,T=(L**2)*50,queima=(L**2)*30,periodo_medida=L**2)\n",
    "    m_beta.append(abs(np.mean(m)))\n",
    "    C_beta.append(np.mean(C))"
   ]
  },
  {
   "cell_type": "code",
   "execution_count": null,
   "metadata": {},
   "outputs": [],
   "source": [
    "plt.plot(betas,m_beta)"
   ]
  },
  {
   "cell_type": "code",
   "execution_count": null,
   "metadata": {},
   "outputs": [],
   "source": []
  },
  {
   "cell_type": "code",
   "execution_count": 17,
   "metadata": {},
   "outputs": [],
   "source": [
    "%matplotlib qt\n",
    "\n",
    "def init():\n",
    "    ax.set_xticks([])\n",
    "    ax.set_yticks([])\n",
    "    for (_,s) in ax.spines.items():\n",
    "        s.set_visible(False)\n",
    "    ax.set_title(r'$\\beta = $' + f'{beta}')\n",
    "    return img,\n",
    "\n",
    "def update(t):\n",
    "    f = talvez_inverte_spin(S,beta)\n",
    "    img.changed()\n",
    "    return img\n",
    "\n",
    "S = np.random.choice([-1,1],(16,16))\n",
    "beta = 2\n",
    "fig, ax = plt.subplots()\n",
    "img = plot_ising_spins(S,ax=ax,cmap='viridis',animated=True)\n",
    "anim = FuncAnimation(fig, update,interval=1,init_func=init, blit=True)"
   ]
  },
  {
   "cell_type": "code",
   "execution_count": null,
   "metadata": {},
   "outputs": [],
   "source": []
  }
 ],
 "metadata": {
  "kernelspec": {
   "display_name": "Python 3",
   "language": "python",
   "name": "python3"
  },
  "language_info": {
   "codemirror_mode": {
    "name": "ipython",
    "version": 3
   },
   "file_extension": ".py",
   "mimetype": "text/x-python",
   "name": "python",
   "nbconvert_exporter": "python",
   "pygments_lexer": "ipython3",
   "version": "3.6.4"
  }
 },
 "nbformat": 4,
 "nbformat_minor": 2
}
