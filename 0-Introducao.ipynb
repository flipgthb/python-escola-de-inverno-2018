{
 "cells": [
  {
   "cell_type": "markdown",
   "metadata": {
    "run_control": {
     "frozen": false,
     "read_only": false
    }
   },
   "source": [
    "# O que é Python?"
   ]
  },
  {
   "cell_type": "markdown",
   "metadata": {},
   "source": [
    "Python é uma linguagem de programação construída sobre o conceito de _Orientação a Objeto_, como em Java e Ruby e diferente de C, Fortran ou Haskell.\n",
    "Python tem algumas características não usuais para aqueles que aprendem a programar C ou Fortran, como:\n",
    "  - Tipagem Dinâmica \n",
    "  - Programação Interativa (REPL, IPython, Jupyter Notebooks)\n",
    "  - Estruturas de dados de alto nível (listas, dicionários...)\n",
    "  - \"Tudo é um objeto\" (funções, classes, números, strings...)\n",
    " "
   ]
  },
  {
   "cell_type": "markdown",
   "metadata": {},
   "source": [
    "Python é uma linguagem madura (com cerca de 30 anos de idade) com um ecossistema de pacotes muito rico e uma comuidade ativa e amigável.\n",
    "É fácil de ser aprendida não só por conta da sintaxe relativamente simples, mas também pela expressividade da linguagem e à grande quantidade de pacotes excelentes para lidar com diversos tipos de problema."
   ]
  },
  {
   "cell_type": "markdown",
   "metadata": {},
   "source": [
    "# Por que (e por que não) Python?"
   ]
  },
  {
   "cell_type": "markdown",
   "metadata": {},
   "source": [
    "Python é uma boa linguagem para cientistas porque:\n",
    "  - É muito fácil aprender\n",
    "  - Pouco código implementa conceitos complicados (contrapondo C ou Fortran)\n",
    "  - Algumas da melhores bibliotecas científicas são para Python \n",
    "    * numpy e scipy\n",
    "    * matplotlib, seaborn, holoviews e altair\n",
    "    * pandas\n",
    "    * networkx\n",
    "    * scikits\n",
    "  - É portável (funciona em muitos sistemas operacionais e máquinas diferentes\n",
    "  - Interopera bem com o sistema operacional e até com C ou Fortran\n",
    "  \n",
    "Python não é uma boa ideia para cientistas porque:\n",
    "  - É muito lenta, por conta da tipagem dinâmica e da orientação a objeto\n",
    "  - Algumas características mais profundas da linguagem tornam difícil a implementação de certas ideias (metaprogramação por exemplo)\n",
    "  - Paralelização deveria ser mais fácil\n",
    "  - Duas versões estáveis (2.7 e 3.6) incompatíveis"
   ]
  },
  {
   "cell_type": "markdown",
   "metadata": {},
   "source": [
    "# Instalação"
   ]
  },
  {
   "cell_type": "markdown",
   "metadata": {},
   "source": [
    "## Anaconda "
   ]
  },
  {
   "cell_type": "markdown",
   "metadata": {},
   "source": [
    "### Linux"
   ]
  },
  {
   "cell_type": "markdown",
   "metadata": {},
   "source": [
    "- Vá ao site https://www.continuum.io/downloads e baixe versão de python 3 para linux\n",
    "- abra um terminal\n",
    "- cd para o diretório onde está o arquivo \"Anaconda3*.sh\"\n",
    "- digite \"bash Anacon3*.sh\", aperte enter e siga as intruções"
   ]
  },
  {
   "cell_type": "markdown",
   "metadata": {},
   "source": [
    "### Windows"
   ]
  },
  {
   "cell_type": "markdown",
   "metadata": {
    "ExecuteTime": {
     "end_time": "2017-07-17T17:50:12.090520Z",
     "start_time": "2017-07-17T17:50:12.081503Z"
    }
   },
   "source": [
    "- Vá ao site https://www.continuum.io/downloads e baixe versão de python 3 para windows\n",
    "- Abra a pasta onde está o arquivo \"Anaconda3*.exe\"\n",
    "- Execute o arguivo e siga as intruções"
   ]
  },
  {
   "cell_type": "markdown",
   "metadata": {},
   "source": [
    "### Mac"
   ]
  },
  {
   "cell_type": "markdown",
   "metadata": {},
   "source": [
    "idem ao windows, mas para o arquivo \"Anaconda3*.pkg\""
   ]
  },
  {
   "cell_type": "markdown",
   "metadata": {},
   "source": [
    "# Interagindo com o REPL"
   ]
  },
  {
   "cell_type": "markdown",
   "metadata": {},
   "source": [
    "##  IDLE, o REPL original de Python"
   ]
  },
  {
   "cell_type": "markdown",
   "metadata": {},
   "source": [
    "- Linux: abra um terminal, digite \"python\" e aperte enter\n",
    "- Windows: aperta a tecla windows, digite python e click no ícone correspondente\n",
    "- Mac: qualquer um dos métodos acima"
   ]
  },
  {
   "cell_type": "markdown",
   "metadata": {},
   "source": [
    "Para executar algum comando em python no IDLE basta digitar o comando e apertar enter, o resultado vem imediatamente (ou tão logo o resultado estiver disponível). \n",
    "Esse é o significado de REPL: Read, Eval, Print Loop, ou seja é uma Repetição de Leitura, Computação e Impressão.\n",
    "Isso possibilita a exploração da linguagem em conjunto com a implementação de ideias e agiliza o desenvolvimento de programas.\n",
    "\n",
    "Entretanto, o IDLE é um REPL muito simples, sem recursos que facilitam várias subtarefas relativas à construção de programas e portanto não o usaremos.\n",
    "Duas ferramentas melhores são o jupyter qtconsole e jupyter notebook, ambos REPLs mas com muitos recursos adicionais."
   ]
  },
  {
   "cell_type": "markdown",
   "metadata": {},
   "source": [
    "## IPython e Jupyter qtconsole"
   ]
  },
  {
   "cell_type": "markdown",
   "metadata": {},
   "source": [
    "Idem ao repl original, mas digitando \"ipython\", ou \"jupyter qtconsole\", ao invés de python. \n",
    "O ipython é um REPL mais completo e melhor de modo geral, comparado ao IDLE.\n",
    "Algumas das características do ipython são:\n",
    "  - Highlighting da Sintaxe\n",
    "  - Ajuda integrada (digiando \"?\" afrente de um objeto)\n",
    "  - Autocompletamento e documentação apertando \"tab\"\n",
    "  - \"mágicas\" para interagir com o ipython ou com o sistema operacional\n",
    "\n",
    "No caso do qtconsole ainda é possível exibir imagens no janela do REPL, os comandos e a história para um script .py e definir inicialização personalizada"
   ]
  },
  {
   "cell_type": "markdown",
   "metadata": {},
   "source": [
    "# Jupyter Notebooks"
   ]
  },
  {
   "cell_type": "markdown",
   "metadata": {},
   "source": [
    "- Linux e Mac: abra um terminal e digite \"jupyter notebook\", uma nova aba do browser irá abrir com uma lista dos notebooks disponíveis na pasta. Clique em \"new\" e escolha o kernel \"python 3\" para criar um novo notebook.\n",
    "\n",
    "- Windows: aperte a tecla windows, digite \"notebook\" e clique no ícone correspodente, uma nova aba do browser irá abrir com uma lista de notebooks disponíveis. Clique em \"new\" e escolha o kernel \"python 3\" para criar um novo notebook."
   ]
  },
  {
   "cell_type": "markdown",
   "metadata": {},
   "source": [
    "Este é o método que usarei nestas aulas por combinar o maior número de elemetos interativos para lidar com os programas sendo escritos.\n",
    "Além de todos os recursos que o jupyter qtconsole tem, o jupyter notebook roda em uma janela de browser (como chrome ou firefox), permitindo o uso de elementos web para facilitar a interação com o programa, além de criar uma estrutura hieráquica (através das células de execução) que facilita a organização do programa.\n",
    "Entre os elementos web disponíveis estão:\n",
    "  - Células de texto escrito em Markdown com a possibilidade de escrever equações em LaTeX:\n",
    "    $$ \\Phi(x) = \\frac{1}{\\sqrt{2\\pi}}\\int_{\\infty}^x \\mathrm{d \\,\\mathrm{e}^{\\frac{1}{2}t^2}$$\n",
    "  - Mostrar gráficos gerados na hora, possivelmente animados\n",
    "  - Integrar várias linguagens atráves de mágicas\n",
    "  - Exportar para scripts .py, html ou pdf"
   ]
  },
  {
   "cell_type": "markdown",
   "metadata": {},
   "source": [
    "# IDEs"
   ]
  },
  {
   "cell_type": "markdown",
   "metadata": {},
   "source": [
    "IDE's são programas que integram um editor de texto, um REPL e um debugger para facilitar o desenvolvimento de programas.\n",
    "São muito úteis quando é necessário desenvolver programas complexos, com muitos scripts e muitas dependências.\n",
    "Na distribuição Anaconda que estamos usando há um IDE chamado spyder, que embora muito bom não será usado neste curso.\n",
    "Outro IDE popular de python é o PyCharm, que se parece com o VisualStudio da Microsoft."
   ]
  },
  {
   "cell_type": "markdown",
   "metadata": {},
   "source": [
    "# Rodando scripts"
   ]
  },
  {
   "cell_type": "markdown",
   "metadata": {},
   "source": [
    "- Linux e Mac:\n",
    "  * Abra um terminal\n",
    "  * cd para a pasta do arquivo .py\n",
    "  * digite : python nomedoarquivo.py outros argumentos -opção1 valor1 -opção2 valor2 ...\n",
    "\n",
    "- Windows:\n",
    "  * Abra a pasta com o arquivo .py\n",
    "  * execute o arquivo"
   ]
  },
  {
   "cell_type": "markdown",
   "metadata": {},
   "source": [
    "# Este curso"
   ]
  },
  {
   "cell_type": "markdown",
   "metadata": {},
   "source": [
    "Para encontrar os notebooks desse curso, acesse o link https://github.com/flipgthb/python-escola-de-inverno-2018 e baixe um zip ou\n",
    "abra um terminal e digite:\n",
    "\n",
    "`git clone https://github.com/flipgthb/python-escola-de-inverno-2018.git`"
   ]
  },
  {
   "cell_type": "markdown",
   "metadata": {},
   "source": [
    "# Usando o notebook"
   ]
  },
  {
   "cell_type": "markdown",
   "metadata": {},
   "source": [
    "Embora a interface do notebook possa ser acessada do menu na parte superior da página, alguns comandos simples ajudam a agilizar a sua utilização. \n",
    "Para entender os camandos, é necessário entender o modelo de estrutura do notebook: um notebook é uma sequência de células, cada célula é um par (input, output), cada input tem um único tipo entre os possíveis {código, markdown, raw} e cada tipo de input tem um output adequado.\n",
    "Além disso, o notebook tem dois modos te interação com o usuário: normal, indicado pela cor azul na lateral da célula focada, e inserção, indicado pela cor verde na lateral da célula focada. \n",
    "Com essas estrutura em mente, usar um notebook consiste em preencher o input de uma célula da forma adequada ao tipo do input e pedir o output e seguir criando células até que o problema no qual estejamos trabalhando seja resovido."
   ]
  },
  {
   "cell_type": "markdown",
   "metadata": {},
   "source": [
    "## Lidando com o contúdo das células"
   ]
  },
  {
   "cell_type": "markdown",
   "metadata": {},
   "source": [
    "### Executando o código"
   ]
  },
  {
   "cell_type": "markdown",
   "metadata": {},
   "source": [
    "A estrutura do notebook em conjunto com esse modo de operação requer que saibamos apenas alguns comandos para trabalhar agilmente com o notebook:\n",
    "  - mudar o modo de interação:\n",
    "    + do modo de inserção para o modo normal: aperte a tecla `esc`\n",
    "    + do modo normal para o modo de inserção: aperte a tecla `enter`\n",
    "  - mudar o tipo de input da célula:\n",
    "    + vá para o modo normal (apertando `esc`)\n",
    "      - input tipo código: aperte a tecla `y`\n",
    "      - input tipo markdown: aperte a tecla `m`\n",
    "      - input tipo raw: aperte a tecla `r`\n",
    "  - pedir o output da célula (ou executar o input):\n",
    "    + mantendo o foco na célula atual: segure a tecla `ctrl` e aperte a tecla `enter`\n",
    "    + passando o foco para a célula seguinte (cria uma nova célula se não houver): segure a tecla `shift` e aperte a tecla `enter`\n",
    "    + criando uma célula entre a célula atual e a seguinte: segure a tecla `alt` e aperte a tecla `enter`"
   ]
  },
  {
   "cell_type": "markdown",
   "metadata": {},
   "source": [
    "## Lidando com as células como estrutura do notebook"
   ]
  },
  {
   "cell_type": "markdown",
   "metadata": {},
   "source": [
    "- Para mover de uma célula para outra no notebook, basta ir para o modo normal apertando `esc` e usar as setas.\n",
    "- Para inserir uma nova célula sem executar o código da célula atual:\n",
    "  + vá para o modo normal (aperte `esc`)\n",
    "    - aperte `a` para inserir uma célula acima da célula focada\n",
    "    - aperte `b` para inserir uma célula acima da célula focada\n",
    "- comandos de edição\n",
    "  + vá para o modo normal (aperte `esc`) \n",
    "    - para cortar uma célular: aperte `x`\n",
    "    - para colar uma célula: \n",
    "        - abaixo da célula atual: aperte `v`\n",
    "        - acima da célula atual: segure `shift` e aperte `v`\n",
    "    - para copiar uma célula: aperte `c`\n",
    "    - para desfazer uma operção de célula: aperte `z`\n",
    "    - para refazer uma operação de célula: segure `shift` e aperte `z`"
   ]
  }
 ],
 "metadata": {
  "kernelspec": {
   "display_name": "Python 3",
   "language": "python",
   "name": "python3"
  },
  "language_info": {
   "codemirror_mode": {
    "name": "ipython",
    "version": 3
   },
   "file_extension": ".py",
   "mimetype": "text/x-python",
   "name": "python",
   "nbconvert_exporter": "python",
   "pygments_lexer": "ipython3",
   "version": "3.6.5"
  },
  "toc": {
   "colors": {
    "hover_highlight": "#DAA520",
    "running_highlight": "#FF0000",
    "selected_highlight": "#FFD700"
   },
   "moveMenuLeft": true,
   "nav_menu": {
    "height": "270px",
    "width": "252px"
   },
   "navigate_menu": true,
   "number_sections": true,
   "sideBar": true,
   "threshold": 4,
   "toc_cell": false,
   "toc_section_display": "block",
   "toc_window_display": false
  }
 },
 "nbformat": 4,
 "nbformat_minor": 2
}
