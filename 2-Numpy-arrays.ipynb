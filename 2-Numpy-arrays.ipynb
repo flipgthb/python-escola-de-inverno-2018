{
 "cells": [
  {
   "cell_type": "markdown",
   "metadata": {
    "run_control": {
     "frozen": false,
     "read_only": false
    }
   },
   "source": [
    "# O quê é numpy?"
   ]
  },
  {
   "cell_type": "markdown",
   "metadata": {
    "run_control": {
     "frozen": false,
     "read_only": false
    }
   },
   "source": [
    "Numpy é um módulo, ou biblioteca, para extender Python, conferindo um tipo _array_ eficiente e operações para esse tipo array.\n",
    "A vantagem, e o motivo desse módulo ser tão importante além da eficiência, é a praticidade de realizar muitas operções numéricas com muito pouco código.\n",
    "O interface acessível ao usário é quase tão simples quanto à do Matlab, mas é código aberto, além de possibilitar o uso de todo o resto da linguagem python, que é muito mais poderosa que Matlab. \n",
    "Em conjunto com o módulo _matplotlib_, que veremos amanhã, numpy (e scipy de modo geral) são as resposáveis por python ter conquistado espaço no mundo acadêmico.\n",
    "\n",
    "Vejamos como usar alguns elementos de numpy."
   ]
  },
  {
   "cell_type": "code",
   "execution_count": null,
   "metadata": {
    "ExecuteTime": {
     "end_time": "2017-07-21T16:16:10.339617Z",
     "start_time": "2017-07-21T16:16:10.230248Z"
    },
    "collapsed": true,
    "run_control": {
     "frozen": false,
     "read_only": false
    }
   },
   "outputs": [],
   "source": [
    "import numpy as np\n",
    "\n",
    "a = np.array([1,2,3,4])\n",
    "b = np.array([10,20,30,40])\n",
    "c = np.array([5,6,7])\n",
    "d = np.array([[1,-1],[-1,1]])"
   ]
  },
  {
   "cell_type": "markdown",
   "metadata": {
    "run_control": {
     "frozen": false,
     "read_only": false
    }
   },
   "source": [
    "Sobre o código acima:\n",
    "\n",
    "```python\n",
    "import numpy as np\n",
    "```\n",
    "está pedindo que o módulo `numpy` seja carregado e que receba o nome `np`.\n",
    "\n",
    "```python\n",
    "a = np.array([1,2,3,4])\n",
    "b = np.array([10,20,30,40])\n",
    "c = np.array([5,6,7])\n",
    "d = np.array([[1,-1],[-1,1]])\n",
    "```\n",
    "está definindo duas arrays, passando listas como argumentos para a função `np.array`.\n",
    "\n",
    "Para saber qual a dimensão de uma array, use o atributo `shape`:"
   ]
  },
  {
   "cell_type": "code",
   "execution_count": null,
   "metadata": {
    "ExecuteTime": {
     "end_time": "2017-07-21T16:16:10.487666Z",
     "start_time": "2017-07-21T16:16:10.462645Z"
    },
    "run_control": {
     "frozen": false,
     "read_only": false
    }
   },
   "outputs": [],
   "source": [
    "a"
   ]
  },
  {
   "cell_type": "code",
   "execution_count": null,
   "metadata": {
    "ExecuteTime": {
     "end_time": "2017-07-21T16:16:10.499169Z",
     "start_time": "2017-07-21T16:16:10.491784Z"
    },
    "run_control": {
     "frozen": false,
     "read_only": false
    }
   },
   "outputs": [],
   "source": [
    "a.shape"
   ]
  },
  {
   "cell_type": "code",
   "execution_count": null,
   "metadata": {
    "ExecuteTime": {
     "end_time": "2017-07-21T16:16:10.508967Z",
     "start_time": "2017-07-21T16:16:10.502791Z"
    },
    "run_control": {
     "frozen": false,
     "read_only": false
    }
   },
   "outputs": [],
   "source": [
    "b"
   ]
  },
  {
   "cell_type": "code",
   "execution_count": null,
   "metadata": {
    "ExecuteTime": {
     "end_time": "2017-07-21T16:16:10.517749Z",
     "start_time": "2017-07-21T16:16:10.512091Z"
    },
    "run_control": {
     "frozen": false,
     "read_only": false
    }
   },
   "outputs": [],
   "source": [
    "b.shape"
   ]
  },
  {
   "cell_type": "code",
   "execution_count": null,
   "metadata": {
    "ExecuteTime": {
     "end_time": "2017-07-21T16:16:10.526202Z",
     "start_time": "2017-07-21T16:16:10.520694Z"
    },
    "run_control": {
     "frozen": false,
     "read_only": false
    }
   },
   "outputs": [],
   "source": [
    "d"
   ]
  },
  {
   "cell_type": "code",
   "execution_count": null,
   "metadata": {
    "ExecuteTime": {
     "end_time": "2017-07-21T16:16:10.536236Z",
     "start_time": "2017-07-21T16:16:10.529894Z"
    },
    "run_control": {
     "frozen": false,
     "read_only": false
    }
   },
   "outputs": [],
   "source": [
    "d.shape"
   ]
  },
  {
   "cell_type": "markdown",
   "metadata": {
    "run_control": {
     "frozen": false,
     "read_only": false
    }
   },
   "source": [
    "Note que `d` é uma array bidimensional e que o tipo array possibilita a criação de array de alta dimensão:"
   ]
  },
  {
   "cell_type": "code",
   "execution_count": null,
   "metadata": {
    "ExecuteTime": {
     "end_time": "2017-07-21T16:16:10.673540Z",
     "start_time": "2017-07-21T16:16:10.665224Z"
    },
    "run_control": {
     "frozen": false,
     "read_only": false
    }
   },
   "outputs": [],
   "source": [
    "foo = np.ones((3,3,3,3,3,3,3))\n",
    "foo.shape"
   ]
  },
  {
   "cell_type": "markdown",
   "metadata": {
    "run_control": {
     "frozen": false,
     "read_only": false
    }
   },
   "source": [
    "Para arrays bidimensionais, a transposição de linhas e colunas é possível usando o atributo `T`:"
   ]
  },
  {
   "cell_type": "code",
   "execution_count": null,
   "metadata": {
    "ExecuteTime": {
     "end_time": "2017-07-21T16:16:10.808275Z",
     "start_time": "2017-07-21T16:16:10.802228Z"
    },
    "run_control": {
     "frozen": false,
     "read_only": false
    }
   },
   "outputs": [],
   "source": [
    "foo = np.array([[1,2],[3,4]])\n",
    "print(f'foo =\\n{foo}\\n\\nfoo.T =\\n{foo.T}')"
   ]
  },
  {
   "cell_type": "markdown",
   "metadata": {
    "run_control": {
     "frozen": false,
     "read_only": false
    }
   },
   "source": [
    "Note que arrays unidimensionais são imunes à transoposição"
   ]
  },
  {
   "cell_type": "code",
   "execution_count": null,
   "metadata": {
    "ExecuteTime": {
     "end_time": "2017-07-21T16:16:10.959655Z",
     "start_time": "2017-07-21T16:16:10.953931Z"
    },
    "run_control": {
     "frozen": false,
     "read_only": false
    }
   },
   "outputs": [],
   "source": [
    "print(f'a = {a} \\n\\n a.T = {a.T}')"
   ]
  },
  {
   "cell_type": "markdown",
   "metadata": {
    "run_control": {
     "frozen": false,
     "read_only": false
    }
   },
   "source": [
    "mas arrays bidimensioais do tipo linha ou coluna não"
   ]
  },
  {
   "cell_type": "code",
   "execution_count": null,
   "metadata": {
    "ExecuteTime": {
     "end_time": "2017-07-21T16:16:11.117299Z",
     "start_time": "2017-07-21T16:16:11.110145Z"
    },
    "run_control": {
     "frozen": false,
     "read_only": false
    }
   },
   "outputs": [],
   "source": [
    "foo = np.array([[1,2,3,4,5]])\n",
    "print(f'foo = {foo}\\n\\nfoo.T =\\n{foo.T}')"
   ]
  },
  {
   "cell_type": "markdown",
   "metadata": {
    "run_control": {
     "frozen": false,
     "read_only": false
    }
   },
   "source": [
    "Saber o shape de uma array é importante para fazer aritmética:"
   ]
  },
  {
   "cell_type": "code",
   "execution_count": null,
   "metadata": {
    "ExecuteTime": {
     "end_time": "2017-07-21T16:16:11.266026Z",
     "start_time": "2017-07-21T16:16:11.254313Z"
    },
    "run_control": {
     "frozen": false,
     "read_only": false
    }
   },
   "outputs": [],
   "source": [
    "# soma de duas arrays com mesmo shape\n",
    "# note que a e b têm shape (4,) e a soma a + b também tem shape (4,)\n",
    "# a soma é feita elemento a elemento\n",
    "print(f\"\"\"\n",
    "a = {a}\n",
    "b = {b}\n",
    "a + b = {a + b}\n",
    "\"\"\")\n",
    "(a + b).shape"
   ]
  },
  {
   "cell_type": "code",
   "execution_count": null,
   "metadata": {
    "ExecuteTime": {
     "end_time": "2017-07-21T16:16:11.287091Z",
     "start_time": "2017-07-21T16:16:11.277922Z"
    },
    "run_control": {
     "frozen": false,
     "read_only": false
    }
   },
   "outputs": [],
   "source": [
    "# produto de duas array com mesmo shape\n",
    "# note que a e b têm shape (4,) e o produto a * b também tem shape (4,)\n",
    "# o produto é feito elemento a elemento\n",
    "print(f\"\"\"\n",
    "a = {a}\n",
    "b = {b}\n",
    "a * b = {a * b}\n",
    "\"\"\")\n",
    "(a * b).shape"
   ]
  },
  {
   "cell_type": "code",
   "execution_count": null,
   "metadata": {
    "ExecuteTime": {
     "end_time": "2017-07-21T16:16:11.298189Z",
     "start_time": "2017-07-21T16:16:11.289354Z"
    },
    "run_control": {
     "frozen": false,
     "read_only": false
    }
   },
   "outputs": [],
   "source": [
    "# soma e produto de escalares com arrays\n",
    "# essas operações acontecem em cada elemento da array\n",
    "print(f\"\"\"\n",
    "a = {a}\n",
    "3 + a = {3 + a}\n",
    "5 * a = {5 * a}\n",
    "\"\"\")\n",
    "(3 + b).shape, (5 * a).shape"
   ]
  },
  {
   "cell_type": "code",
   "execution_count": null,
   "metadata": {
    "ExecuteTime": {
     "end_time": "2017-07-21T16:16:11.306391Z",
     "start_time": "2017-07-21T16:16:11.300496Z"
    },
    "run_control": {
     "frozen": false,
     "read_only": false
    }
   },
   "outputs": [],
   "source": [
    "# de modo geral, operações entre escalar e array aconteces acontecem e cada elemento da array\n",
    "print(f\"\"\"\n",
    "a = {a}\n",
    "a / 2 = {a /2}\n",
    "a ** 2 = {a ** 2}\n",
    "np.sin(a) = {np.sin(a)}\n",
    "\"\"\")"
   ]
  },
  {
   "cell_type": "markdown",
   "metadata": {
    "run_control": {
     "frozen": false,
     "read_only": false
    }
   },
   "source": [
    "Esses exemplos são casos de _broadcasting_, termo usado para significar que um elemento de dimensão menor é \"repetido\" de forma a coincidir com a dimensão maior para que a operação possa ser feita elemento a elemento.\n",
    "Além dos casos acima, é possível fazer essas operações com arrays uni e bidimensionais com shape a de shapes adequados"
   ]
  },
  {
   "cell_type": "code",
   "execution_count": null,
   "metadata": {
    "ExecuteTime": {
     "end_time": "2017-07-21T16:16:11.427122Z",
     "start_time": "2017-07-21T16:16:11.417683Z"
    },
    "run_control": {
     "frozen": false,
     "read_only": false
    }
   },
   "outputs": [],
   "source": [
    "foo = np.array([1,2,3])\n",
    "bar = np.array([[1,1,1],[2,2,2],[3,3,3]])\n",
    "print(foo + bar, foo + bar.T, sep='\\n\\n')"
   ]
  },
  {
   "cell_type": "markdown",
   "metadata": {
    "run_control": {
     "frozen": false,
     "read_only": false
    }
   },
   "source": [
    "É possível fazer o produto interno de duas arrays de mesmo shape"
   ]
  },
  {
   "cell_type": "code",
   "execution_count": null,
   "metadata": {
    "ExecuteTime": {
     "end_time": "2017-07-21T16:16:11.617425Z",
     "start_time": "2017-07-21T16:16:11.608741Z"
    },
    "run_control": {
     "frozen": false,
     "read_only": false
    }
   },
   "outputs": [],
   "source": [
    "a.dot(b), a @ b"
   ]
  },
  {
   "cell_type": "markdown",
   "metadata": {
    "run_control": {
     "frozen": false,
     "read_only": false
    }
   },
   "source": [
    "Ou o produto de matrizes entre arrays de shape apropriado:"
   ]
  },
  {
   "cell_type": "code",
   "execution_count": null,
   "metadata": {
    "ExecuteTime": {
     "end_time": "2017-07-21T16:16:11.818115Z",
     "start_time": "2017-07-21T16:16:11.806894Z"
    },
    "run_control": {
     "frozen": false,
     "read_only": false
    }
   },
   "outputs": [],
   "source": [
    "foo = np.array([[1,-1],[-1,1]])\n",
    "bar = np.array([2,20])\n",
    "foo.dot(bar), foo @ bar"
   ]
  },
  {
   "cell_type": "markdown",
   "metadata": {
    "run_control": {
     "frozen": false,
     "read_only": false
    }
   },
   "source": [
    "O tipo arrays tem muitos métodos convenientes para operar sobre os valores como méadia, variância, máximo e mínimo, por exemplo."
   ]
  },
  {
   "cell_type": "code",
   "execution_count": null,
   "metadata": {
    "ExecuteTime": {
     "end_time": "2017-07-21T16:16:12.005242Z",
     "start_time": "2017-07-21T16:16:11.998234Z"
    },
    "run_control": {
     "frozen": false,
     "read_only": false
    }
   },
   "outputs": [],
   "source": [
    "# média\n",
    "x = np.array([-2*np.pi,-3*np.pi/2,-np.pi,-np.pi/2,0,np.pi/2,np.pi,3*np.pi/2,2*np.pi])\n",
    "x.mean()"
   ]
  },
  {
   "cell_type": "code",
   "execution_count": null,
   "metadata": {
    "ExecuteTime": {
     "end_time": "2017-07-21T16:16:12.019989Z",
     "start_time": "2017-07-21T16:16:12.014510Z"
    },
    "run_control": {
     "frozen": false,
     "read_only": false
    }
   },
   "outputs": [],
   "source": [
    "# variância\n",
    "x.var()"
   ]
  },
  {
   "cell_type": "code",
   "execution_count": null,
   "metadata": {
    "ExecuteTime": {
     "end_time": "2017-07-21T16:16:12.027550Z",
     "start_time": "2017-07-21T16:16:12.022509Z"
    },
    "run_control": {
     "frozen": false,
     "read_only": false
    }
   },
   "outputs": [],
   "source": [
    "# mínimo e máximo\n",
    "x.min(), x.max()"
   ]
  },
  {
   "cell_type": "markdown",
   "metadata": {
    "run_control": {
     "frozen": false,
     "read_only": false
    }
   },
   "source": [
    "Além dos métodos, diversas funções matemáticas capazes de lidar com arrays são acessíveis imediatamente"
   ]
  },
  {
   "cell_type": "code",
   "execution_count": null,
   "metadata": {
    "ExecuteTime": {
     "end_time": "2017-07-21T16:16:12.249205Z",
     "start_time": "2017-07-21T16:16:12.238336Z"
    },
    "run_control": {
     "frozen": false,
     "read_only": false
    }
   },
   "outputs": [],
   "source": [
    "# seno, cosseno, tangente\n",
    "np.sin(x), np.cos(x), np.tan(x)"
   ]
  },
  {
   "cell_type": "code",
   "execution_count": null,
   "metadata": {
    "ExecuteTime": {
     "end_time": "2017-07-21T16:16:12.265140Z",
     "start_time": "2017-07-21T16:16:12.252923Z"
    },
    "run_control": {
     "frozen": false,
     "read_only": false
    }
   },
   "outputs": [],
   "source": [
    "# funções arco\n",
    "np.abs(np.arcsin(np.sin(x)) - x), np.abs(np.arccos(np.cos(x)) - x),  np.abs(np.arctan(np.tan(x)) - x)"
   ]
  },
  {
   "cell_type": "markdown",
   "metadata": {
    "run_control": {
     "frozen": false,
     "read_only": false
    }
   },
   "source": [
    "e diversas outras."
   ]
  },
  {
   "cell_type": "markdown",
   "metadata": {
    "run_control": {
     "frozen": false,
     "read_only": false
    }
   },
   "source": [
    "Além do tipo array e das operações sobre elementos desse tipo, numpy traz uma coleção de submódulos temáticos muito úteis.\n",
    "Dois muito úteis são o de algebra linear, chamado `numpy.linalg`, e o de números aleatórios, chamado `numpy.random`.\n",
    "Vejamos o nome algumas das funções nesse submódulos:"
   ]
  },
  {
   "cell_type": "code",
   "execution_count": null,
   "metadata": {
    "ExecuteTime": {
     "end_time": "2017-07-21T16:16:12.729450Z",
     "start_time": "2017-07-21T16:16:12.722975Z"
    },
    "collapsed": true,
    "run_control": {
     "frozen": false,
     "read_only": false
    }
   },
   "outputs": [],
   "source": [
    "from numpy.linalg import norm, qr, cholesky, det, inv\n",
    "from numpy.random import rand, randn, choice, randint, gamma, normal"
   ]
  },
  {
   "cell_type": "markdown",
   "metadata": {},
   "source": [
    "## Um pouco sobre Fancy Indexing"
   ]
  },
  {
   "cell_type": "markdown",
   "metadata": {},
   "source": [
    "Embora o objetivo do numpy seja reduzir ao máximo a necessidade de acessar elementos em arrays, favorecendo um estilo de solução de problemas em computação conhecido como _vetorização_, muitas vezes é necessário acessar um subconjunto de elementos de arrays.\n",
    "Há algumas formas de se fazer isso, com algumas sutilezas envolvidas (embora tais sutilezas sejam relevantes apenas do ponto de vista da eficiência).\n",
    "\n",
    "Vejamos alguns exemplos:"
   ]
  },
  {
   "cell_type": "code",
   "execution_count": null,
   "metadata": {
    "ExecuteTime": {
     "end_time": "2017-07-21T16:24:55.475923Z",
     "start_time": "2017-07-21T16:24:55.465765Z"
    }
   },
   "outputs": [],
   "source": [
    "a = np.arange(20).reshape((4,5))\n",
    "b = a.tolist()\n",
    "print(f\"\"\"\n",
    "a = \n",
    "{a}\n",
    "\n",
    "b = \n",
    "{b}\n",
    "\"\"\")"
   ]
  },
  {
   "cell_type": "markdown",
   "metadata": {},
   "source": [
    "Note que a array `a` tem shape `(4,5)`, de modo que, assim como com listas e outros container builtin de python, o primeira linha tem índice `0` e a última linha tem índice `4-1 = 3`.\n",
    "Analogamente, a primeira coluna tem índice `0` e a última tem índice `5-1 = 4`.\n",
    "\n",
    "Podemos acessar apenas linhas da array `a`do mesmo modo que faríamos com a lista de listas `b`:"
   ]
  },
  {
   "cell_type": "code",
   "execution_count": null,
   "metadata": {
    "ExecuteTime": {
     "end_time": "2017-07-21T16:26:19.261737Z",
     "start_time": "2017-07-21T16:26:19.254356Z"
    }
   },
   "outputs": [],
   "source": [
    "a[2]"
   ]
  },
  {
   "cell_type": "code",
   "execution_count": null,
   "metadata": {
    "ExecuteTime": {
     "end_time": "2017-07-21T16:26:22.230727Z",
     "start_time": "2017-07-21T16:26:22.225247Z"
    }
   },
   "outputs": [],
   "source": [
    "b[2]"
   ]
  },
  {
   "cell_type": "markdown",
   "metadata": {},
   "source": [
    "e podemos acessar um elemento de uma linha da mesma forma"
   ]
  },
  {
   "cell_type": "code",
   "execution_count": null,
   "metadata": {
    "ExecuteTime": {
     "end_time": "2017-07-21T16:27:03.289069Z",
     "start_time": "2017-07-21T16:27:03.282232Z"
    }
   },
   "outputs": [],
   "source": [
    "a[2][1]"
   ]
  },
  {
   "cell_type": "code",
   "execution_count": null,
   "metadata": {
    "ExecuteTime": {
     "end_time": "2017-07-21T16:27:07.675028Z",
     "start_time": "2017-07-21T16:27:07.667061Z"
    }
   },
   "outputs": [],
   "source": [
    "b[2][1]"
   ]
  },
  {
   "cell_type": "markdown",
   "metadata": {},
   "source": [
    "Porém, o tipo array permite fazer essa operação de modo mais simples, enquanto uma lista de listas não"
   ]
  },
  {
   "cell_type": "code",
   "execution_count": null,
   "metadata": {
    "ExecuteTime": {
     "end_time": "2017-07-21T16:27:41.644988Z",
     "start_time": "2017-07-21T16:27:41.637270Z"
    }
   },
   "outputs": [],
   "source": [
    "a[2,1]"
   ]
  },
  {
   "cell_type": "code",
   "execution_count": null,
   "metadata": {
    "ExecuteTime": {
     "end_time": "2017-07-21T16:27:44.409080Z",
     "start_time": "2017-07-21T16:27:44.288627Z"
    }
   },
   "outputs": [],
   "source": [
    "b[2,1]"
   ]
  },
  {
   "cell_type": "markdown",
   "metadata": {},
   "source": [
    "Tanto arrays quanto listas permitem o uso de \"slices\",cuja a forma é `começo:fim:intervalo`, como índices para capturar porções maiores que um elemento:"
   ]
  },
  {
   "cell_type": "code",
   "execution_count": null,
   "metadata": {
    "ExecuteTime": {
     "end_time": "2017-07-21T16:30:40.710999Z",
     "start_time": "2017-07-21T16:30:40.699270Z"
    }
   },
   "outputs": [],
   "source": [
    "a[0:2]"
   ]
  },
  {
   "cell_type": "code",
   "execution_count": null,
   "metadata": {
    "ExecuteTime": {
     "end_time": "2017-07-21T16:30:48.112363Z",
     "start_time": "2017-07-21T16:30:48.104593Z"
    }
   },
   "outputs": [],
   "source": [
    "b[0:2]"
   ]
  },
  {
   "cell_type": "markdown",
   "metadata": {},
   "source": [
    "usando \"slices\" é possível omitir o zero ou ou último índice, ou seja, a mesma operação acima pode ser escrita de forma equivalente"
   ]
  },
  {
   "cell_type": "code",
   "execution_count": null,
   "metadata": {
    "ExecuteTime": {
     "end_time": "2017-07-21T16:32:00.691185Z",
     "start_time": "2017-07-21T16:32:00.683781Z"
    }
   },
   "outputs": [],
   "source": [
    "a[:2]"
   ]
  },
  {
   "cell_type": "markdown",
   "metadata": {},
   "source": [
    "e as seguintes operações também são equivalentes"
   ]
  },
  {
   "cell_type": "code",
   "execution_count": null,
   "metadata": {
    "ExecuteTime": {
     "end_time": "2017-07-21T16:32:53.131808Z",
     "start_time": "2017-07-21T16:32:53.124364Z"
    }
   },
   "outputs": [],
   "source": [
    "a[1:4]"
   ]
  },
  {
   "cell_type": "code",
   "execution_count": null,
   "metadata": {
    "ExecuteTime": {
     "end_time": "2017-07-21T16:32:48.124030Z",
     "start_time": "2017-07-21T16:32:48.115439Z"
    }
   },
   "outputs": [],
   "source": [
    "a[1:]"
   ]
  },
  {
   "cell_type": "markdown",
   "metadata": {},
   "source": [
    "Combinando a regrinha acima, um sinal de dois pontos, `:`, sozinho significa todos os elementos daquela dimensão:"
   ]
  },
  {
   "cell_type": "code",
   "execution_count": null,
   "metadata": {
    "ExecuteTime": {
     "end_time": "2017-07-21T16:34:07.609371Z",
     "start_time": "2017-07-21T16:34:07.601018Z"
    }
   },
   "outputs": [],
   "source": [
    "a[:]"
   ]
  },
  {
   "cell_type": "code",
   "execution_count": null,
   "metadata": {
    "ExecuteTime": {
     "end_time": "2017-07-21T16:34:09.589882Z",
     "start_time": "2017-07-21T16:34:09.583347Z"
    }
   },
   "outputs": [],
   "source": [
    "a"
   ]
  },
  {
   "cell_type": "markdown",
   "metadata": {},
   "source": [
    "Com isso é possível e a sintaxe simplificada de arrays para acessar colunas, é possível pegar uma coluna inteira.\n",
    "O exemplo a seguir pode ser lido como \"pegue todas as linhas da coluna 2 (terceira coluna contando do zero)\" "
   ]
  },
  {
   "cell_type": "code",
   "execution_count": null,
   "metadata": {
    "ExecuteTime": {
     "end_time": "2017-07-21T16:34:51.746363Z",
     "start_time": "2017-07-21T16:34:51.740439Z"
    }
   },
   "outputs": [],
   "source": [
    "a[:,2]"
   ]
  },
  {
   "cell_type": "markdown",
   "metadata": {},
   "source": [
    "Esses conceitos se generalizam pra qualquer shape:"
   ]
  },
  {
   "cell_type": "code",
   "execution_count": null,
   "metadata": {
    "ExecuteTime": {
     "end_time": "2017-07-21T16:38:10.077251Z",
     "start_time": "2017-07-21T16:38:10.067183Z"
    }
   },
   "outputs": [],
   "source": [
    "b = np.arange(27).reshape((3,3,3))\n",
    "b"
   ]
  },
  {
   "cell_type": "code",
   "execution_count": null,
   "metadata": {
    "ExecuteTime": {
     "end_time": "2017-07-21T16:38:38.197816Z",
     "start_time": "2017-07-21T16:38:38.190728Z"
    }
   },
   "outputs": [],
   "source": [
    "b[0,:,1]"
   ]
  },
  {
   "cell_type": "markdown",
   "metadata": {},
   "source": [
    "Além dos \"slices\" também é possível usar elípses, significando \"todas as demais dimensões\", conceito que é útil quand as arrays tem shapes:"
   ]
  },
  {
   "cell_type": "code",
   "execution_count": null,
   "metadata": {
    "ExecuteTime": {
     "end_time": "2017-07-21T16:38:57.379232Z",
     "start_time": "2017-07-21T16:38:57.373290Z"
    }
   },
   "outputs": [],
   "source": [
    "b[0,...]"
   ]
  },
  {
   "cell_type": "markdown",
   "metadata": {},
   "source": [
    "Outra forma de indexar arrays (ou listas) é usando listas ou arrays de índices.\n",
    "O exemplos seguintes são equivalentes (a menos do tipo devolvido):"
   ]
  },
  {
   "cell_type": "code",
   "execution_count": null,
   "metadata": {
    "ExecuteTime": {
     "end_time": "2017-07-21T16:42:07.791693Z",
     "start_time": "2017-07-21T16:42:07.783937Z"
    }
   },
   "outputs": [],
   "source": [
    "a[0,2], a[1,3]"
   ]
  },
  {
   "cell_type": "code",
   "execution_count": null,
   "metadata": {
    "ExecuteTime": {
     "end_time": "2017-07-21T16:42:13.629498Z",
     "start_time": "2017-07-21T16:42:13.621548Z"
    }
   },
   "outputs": [],
   "source": [
    "a[[0,1],[2,3]]"
   ]
  },
  {
   "cell_type": "markdown",
   "metadata": {},
   "source": [
    "Todos esses médodos podem ser combinado e algumas bibliotecas, como pandas, ampliam esse mecanismo permitindo indexação por valores nomes de colunas e outros possíveis valores que poderiam indexar uma tabela."
   ]
  },
  {
   "cell_type": "markdown",
   "metadata": {
    "run_control": {
     "frozen": false,
     "read_only": false
    }
   },
   "source": [
    "# Scipy"
   ]
  },
  {
   "cell_type": "markdown",
   "metadata": {
    "run_control": {
     "frozen": false,
     "read_only": false
    }
   },
   "source": [
    "Scipy é um módulo que contém o numpy e outros módulos temáticos, todos orientados para a aplicação em problemas típicamente cietíficos."
   ]
  },
  {
   "cell_type": "code",
   "execution_count": null,
   "metadata": {
    "ExecuteTime": {
     "end_time": "2017-07-21T16:16:13.213389Z",
     "start_time": "2017-07-21T16:16:13.086328Z"
    },
    "collapsed": true,
    "run_control": {
     "frozen": false,
     "read_only": false
    }
   },
   "outputs": [],
   "source": [
    "from scipy.optimize import fixed_point, minimize\n",
    "from scipy.special import erf, erfc, beta, gamma, hermite\n",
    "from scipy.integrate import quad, quadrature, ode, odeint"
   ]
  }
 ],
 "metadata": {
  "kernelspec": {
   "display_name": "Python 3",
   "language": "python",
   "name": "python3"
  },
  "language_info": {
   "codemirror_mode": {
    "name": "ipython",
    "version": 3
   },
   "file_extension": ".py",
   "mimetype": "text/x-python",
   "name": "python",
   "nbconvert_exporter": "python",
   "pygments_lexer": "ipython3",
   "version": "3.6.5"
  },
  "toc": {
   "colors": {
    "hover_highlight": "#DAA520",
    "running_highlight": "#FF0000",
    "selected_highlight": "#FFD700"
   },
   "moveMenuLeft": true,
   "nav_menu": {
    "height": "48px",
    "width": "252px"
   },
   "navigate_menu": true,
   "number_sections": true,
   "sideBar": true,
   "threshold": 4,
   "toc_cell": false,
   "toc_section_display": "block",
   "toc_window_display": false
  }
 },
 "nbformat": 4,
 "nbformat_minor": 2
}
